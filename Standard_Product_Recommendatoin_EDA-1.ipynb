{
 "cells": [
  {
   "cell_type": "markdown",
   "metadata": {},
   "source": [
    "# <center> Self Case Study - 1 </center>"
   ]
  },
  {
   "cell_type": "markdown",
   "metadata": {},
   "source": [
    "<img src='santander-banner.png'>"
   ]
  },
  {
   "cell_type": "markdown",
   "metadata": {},
   "source": [
    "# <center> Santandard Product Recommendation </center>"
   ]
  },
  {
   "cell_type": "markdown",
   "metadata": {},
   "source": [
    "<center> __Exploratory Data Aalysis__ </center>"
   ]
  },
  {
   "cell_type": "markdown",
   "metadata": {},
   "source": [
    "<h1> 1. Business Problem </h1>"
   ]
  },
  {
   "cell_type": "markdown",
   "metadata": {},
   "source": [
    "<h2> 1.1 Description </h2>"
   ]
  },
  {
   "cell_type": "markdown",
   "metadata": {},
   "source": [
    "Under the current system, a small number of Santander’s customers receive many recommendations, while many others rarely see any. This results in an uneven customer experience. Therefore, in this case study we have to predict which products Santander's existing customers will use in the next month based on their past behavior and that of similar customers.\n",
    "\n",
    "With a more effective recommendation system in place, Santander can better meet the individual needs of all customers and ensure their satisfaction no matter where they are in life."
   ]
  },
  {
   "cell_type": "markdown",
   "metadata": {},
   "source": [
    "\n",
    "In this Kaggle competition, we are provided with 1.5 years of customers behavior data from Santander bank to predict what new products customers will purchase. The data starts at 2015-01-28 and has monthly records of products a customer has, such as \"credit card\", \"savings account\", etc. We will be predicting what additional products a customer will get in the last month, 2016-06-28, in addition to what they already have at 2016-05-28. These products are the columns named: ind_(xyz)_ult1, which are the columns #25 - #48 in the training data."
   ]
  },
  {
   "cell_type": "markdown",
   "metadata": {
    "colab_type": "text",
    "id": "34hYn911s5V0"
   },
   "source": [
    "<h2> 1.2 Sources ( or Useful Links)</h2>"
   ]
  },
  {
   "cell_type": "markdown",
   "metadata": {},
   "source": [
    "#### Kaggle problem statement (https://www.kaggle.com/c/santander-product-recommendation) :"
   ]
  },
  {
   "cell_type": "markdown",
   "metadata": {
    "colab_type": "text",
    "id": "jlNRUR4Ws5V5"
   },
   "source": [
    "<h2>1.3 Real world/Business Objectives and Constraints </h2>"
   ]
  },
  {
   "cell_type": "markdown",
   "metadata": {},
   "source": [
    "Objectives:\n",
    "- Predict the products that customer may be interested given last 1.5 yrs data.\n",
    "\n",
    "<br>\n",
    "\n",
    "Constraints:\n",
    "- Although nothing specific is mentioned, however we can think that the product that is recommended must be right."
   ]
  },
  {
   "cell_type": "markdown",
   "metadata": {
    "colab_type": "text",
    "id": "OHaMsF48xrju"
   },
   "source": [
    "<h1> 2. Machine Learning Problem </h1>"
   ]
  },
  {
   "cell_type": "markdown",
   "metadata": {
    "colab_type": "text",
    "id": "ZvI3c9Nzxrjv"
   },
   "source": [
    "<h2>2.1 Data </h2>"
   ]
  },
  {
   "cell_type": "markdown",
   "metadata": {
    "colab_type": "text",
    "id": "HumNBQ7Bxrjx"
   },
   "source": [
    "<h3> 2.1.1 Data Overview: </h3>"
   ]
  },
  {
   "cell_type": "markdown",
   "metadata": {},
   "source": [
    "In this competition, we are provided with 1.5 years of customers behavior data from Santander bank to predict what new products customers will purchase. The data starts at 2015-01-28 and has monthly records of products a customer has, such as \"credit card\", \"savings account\", etc. We will be predicting what additional products a customer will get in the last month, 2016-06-28, in addition to what they already have at 2016-05-28. These products are the columns named: ind_(xyz)_ult1, which are the columns #25 - #48 in the training data."
   ]
  },
  {
   "cell_type": "markdown",
   "metadata": {},
   "source": [
    "<h3> 2.1.2 Files: </h3>"
   ]
  },
  {
   "cell_type": "markdown",
   "metadata": {},
   "source": [
    "- test_ver2.csv - 105 MB\n",
    "- train_ver2.csv - 2.13 GB"
   ]
  },
  {
   "cell_type": "markdown",
   "metadata": {},
   "source": [
    "<h3> 2.1.3 Data Fields: </h3>"
   ]
  },
  {
   "cell_type": "markdown",
   "metadata": {},
   "source": [
    " The `train.csv` data set provided by Santandard Product Recommendation contains the following features:\n",
    " \n",
    " S. No. | Feature | Description \n",
    ":----------|----------:|:---------------\n",
    "**`1`**    | **`fecha_dato`**    | Date. The table is partitioned for this column. <br><br><u> _Example:_ </u><br> 2016-05-28\n",
    "**`2`**    | **`ncodpers`**      | Customer code <br><br><u> _Examples:_ </u> <br>657640<br>657849 \n",
    "**`3`**    | **`ind_empleado`**  | Employee index.<br><br> `A`: active,<br> `B`: ex employed,<br> `F` : filial,<br> `N` : not employee,<br> `P` : pasive \n",
    "**`4`**    | **`pais_residencia`**  | Customer's Country residence.<br> (https://www.iban.com/country-codes) <br><br> <u> _Example:_ </u> <br>ES\n",
    "**`5`**    | **`sexo`**  | Customer's sex. <br><br>H<br>V  \n",
    "**`6`**    | **`age`** | Customer's age. <br><br> <u> _Example:_ </u> <br>68\n",
    "**`7`**    | **`fecha_alta`**    | The date in which the customer became as the first holder of a contract in the bank. <br><br><u> _Example:_ </u><br> 2006-11-17\n",
    "**`8`**    | **`ind_nuevo`**  | New customer Index.<br> `1` : if the customer registered in the last 6 months.\n",
    "**`9`**    | **`antiguedad`** | Customer seniority (in months). <br><br> <u> _Example:_ </u> <br>114\n",
    "**`10`**    | **`indrel`**  | `1` : First/Primary,<br> `99` : Primary customer during the month but not at the end of the month.\n",
    "**`11`**    | **`ult_fec_cli_1t`**    | Last date as primary customer (if he isn't at the end of the month).\n",
    "**`12`**    | **`indrel_1mes`**    | Customer type at the beginning of the month. <br> `1` : First/Primary customer, <br> `2` : co-owner , <br> `P` : Potential, <br> `3` : former primary,<br> `4` : former co-owner\n",
    "**`13`**    | **`tiprel_1mes`**    | Customer relation type at the beginning of the month.<br> `A` : active,<br> `I` : inactive,<br> `P` : former customer,<br> `R` Potential.\n",
    "**`14`**    | **`indresi`**    | Residence index.<br> `S` : Yes,<br> `N` : No, if the residence country is the same than the bank country.\n",
    "**`15`**    | **`indext`**    | Foreigner index.<br> `S` : Yes, <br> `N` : No, if the customer's birth country is different than the bank country.\n",
    "**`16`**    | **`conyuemp`**    | Spouse index.<br> `1` : if the customer is spouse of an employee.\n",
    "**`17`**    | **`canal_entrada`**    | Channel used by the customer to join. <br><br> <u> _Example:_ </u> <br>KAQ<br>KBF\n",
    "**`18`**    | **`indfall`**    | Deceased index. <br> `N` : No, <br> `S` : Yes.\n",
    "**`19`**    | **`tipodom`**    | Addres type. <br> `1` : primary address.\n",
    "**`20`**    | **`cod_prov`**    | Province code (customer's address). <br> https://en.wikipedia.org/wiki/List_of_postal_codes_in_Spain.  <br><br> <u> _Example:_ </u> <br>28\n",
    "**`21`**    | **`nomprov`**    | Province name. <br> https://en.wikipedia.org/wiki/List_of_postal_codes_in_Spain<br><br> <u> _Example:_ </u> <br>MADRID\n",
    "**`22`**    | **`ind_actividad_cliente`**    | Activity index. <br> `1` : active customer, <br> `0` : inactive customer.\n",
    "**`23`**    | **`renta`**    | Gross income of the household. <br><br> <u> _Example:_ </u> <br>147347.97\n",
    "**`24`**    | **`segmento`**    | Customers's segmentation.<br> `01` : VIP,<br> `02` : Individuals, <br> `03` : college graduated\n",
    "**`25`**    | **`ind_ahor_fin_ult1`**    | Saving Account.\n",
    "**`26`**    | **`ind_aval_fin_ult1`**    | Guarantees.\n",
    "**`27`**    | **`ind_cco_fin_ult1`**     | Current Account.\n",
    "**`28`**    | **`ind_cder_fin_ult1`**    | Derivada Account.\n",
    "**`29`**    | **`ind_cno_fin_ult1`**     | Payroll Account.\n",
    "**`30`**    | **`ind_ctju_fin_ult1`**    | Junior Account.\n",
    "**`31`**    | **`ind_ctma_fin_ult1`**    | Más particular Account.\n",
    "**`32`**    | **`ind_ctop_fin_ult1`**    | particular Account.\n",
    "**`33`**    | **`ind_ctpp_fin_ult1`**    | particular Plus Account.\n",
    "**`34`**    | **`ind_deco_fin_ult1`**    | Short-term Account.\n",
    "**`35`**    | **`ind_deme_fin_ult1`**    | Medium-term Account.\n",
    "**`36`**    | **`ind_dela_fin_ult1`**    | Long-term Account.\n",
    "**`37`**    | **`ind_ecue_fin_ult1`**    | e-account.\n",
    "**`38`**    | **`ind_fond_fin_ult1`**    | Funds.\n",
    "**`39`**    | **`ind_hip_fin_ult1`**     | Mortgage.\n",
    "**`40`**    | **`ind_plan_fin_ult1`**    | Pensions.\n",
    "**`41`**    | **`ind_pres_fin_ult1`**    | Loans.\n",
    "**`42`**    | **`ind_reca_fin_ult1`**    | Taxes.\n",
    "**`43`**    | **`ind_tjcr_fin_ult1`**    | Credit Card.\n",
    "**`44`**    | **`ind_valo_fin_ult1`**    | Securities.\n",
    "**`45`**    | **`ind_viv_fin_ult1`**     | Home Account.\n",
    "**`46`**    | **`ind_nomina_ult1`**      | Payroll.\n",
    "**`47`**    | **`ind_nom_pens_ult1`**    | Pensions.\n",
    "**`48`**    | **`ind_recibo_ult1`**      | Direct Debit.\n",
    "\n",
    "<u>**Note:**</u> For fields #25 to #48, we have 0 or 1."
   ]
  },
  {
   "cell_type": "markdown",
   "metadata": {},
   "source": [
    "> _Summary_ :\n",
    "- We have 1.5 yrs of customer behavious data from Jan-2015 to May-2016, recorded in month-end (28th of the month).\n",
    "- We have 48 columns in total, out of which 24 has user details and 24 shows if user owns the product in that particular month.\n",
    "- Therefore, **_x_** i's will be --> Col #1 to Col #24, and **_y_** i's will be --> Col #25 to Col #48.\n",
    "- **_y_** i's are Boolean in nature.\n",
    "\n",
    "> _Categorical **x** i's_ :\n",
    "\n",
    "Col No. | Feature | Description\n",
    ":------- | :--------| :-------\n",
    "**`1`**    | **`fecha_dato`**    | Date.\n",
    "**`2`**    | **`ncodpers`**      | Customer code\n",
    "**`3`**    | **`ind_empleado`**  | Employee index. - Categorical\n",
    "**`4`**    | **`pais_residencia`**  | Customer's Country residence.<br> (https://www.iban.com/country-codes) <br><br> <u> _Example:_ </u> <br>ES\n",
    "**`5`**    | **`sexo`**  | Customer's sex. <br><br>H<br>V  \n",
    "**`7`**    | **`fecha_alta`**    | The date in which the customer became as the first holder of a contract in the bank. <br><br><u> _Example:_ </u><br> 2006-11-17\n",
    "**`8`**    | **`ind_nuevo`**  | New customer Index.<br> `1` : if the customer registered in the last 6 months.\n",
    "**`10`**    | **`indrel`**  | `1` : First/Primary,<br> `99` : Primary customer during the month but not at the end of the month.\n",
    "**`11`**    | **`ult_fec_cli_1t`**    | Last date as primary customer (if he isn't at the end of the month).\n",
    "**`12`**    | **`indrel_1mes`**    | Customer type at the beginning of the month. <br> `1` : First/Primary customer, <br> `2` : co-owner , <br> `P` : Potential, <br> `3` : former primary,<br> `4` : former co-owner\n",
    "**`13`**    | **`tiprel_1mes`**    | Customer relation type at the beginning of the month.<br> `A` : active,<br> `I` : inactive,<br> `P` : former customer,<br> `R` Potential.\n",
    "**`14`**    | **`indresi`**    | Residence index.<br> `S` : Yes,<br> `N` : No, if the residence country is the same than the bank country.\n",
    "**`15`**    | **`indext`**    | Foreigner index.<br> `S` : Yes, <br> `N` : No, if the customer's birth country is different than the bank country.\n",
    "**`16`**    | **`conyuemp`**    | Spouse index.<br> `1` : if the customer is spouse of an employee.\n",
    "**`17`**    | **`canal_entrada`**    | Channel used by the customer to join. <br><br> <u> _Example:_ </u> <br>KAQ<br>KBF\n",
    "**`18`**    | **`indfall`**    | Deceased index. <br> `N` : No, <br> `S` : Yes.\n",
    "**`19`**    | **`tipodom`**    | Addres type. <br> `1` : primary address.\n",
    "**`20`**    | **`cod_prov`**    | Province code (customer's address). <br> https://en.wikipedia.org/wiki/List_of_postal_codes_in_Spain.  <br><br> <u> _Example:_ </u> <br>28\n",
    "**`21`**    | **`nomprov`**    | Province name. <br> https://en.wikipedia.org/wiki/List_of_postal_codes_in_Spain<br><br> <u> _Example:_ </u> <br>MADRID\n",
    "**`22`**    | **`ind_actividad_cliente`**    | Activity index. <br> `1` : active customer, <br> `0` : inactive customer.\n",
    "**`24`**    | **`segmento`**    | Customers's segmentation.<br> `01` : VIP,<br> `02` : Individuals, <br> `03` : college graduated\n",
    "\n",
    "> _Numerical **x** i's_ :\n",
    "\n",
    "Col No. | Feature | Description\n",
    ":------- | :--------| :-------\n",
    "**`6`**    | **`age`** | Customer's age. <br><br> <u> _Example:_ </u> <br>68\n",
    "**`9`**    | **`antiguedad`** | Customer seniority (in months). <br><br> <u> _Example:_ </u> <br>114\n",
    "**`23`**    | **`renta`**    | Gross income of the household. <br><br> <u> _Example:_ </u> <br>147347.97"
   ]
  },
  {
   "cell_type": "code",
   "execution_count": 1,
   "metadata": {},
   "outputs": [],
   "source": [
    "#libraries\n",
    "\n",
    "import pandas            as pd\n",
    "import numpy             as np\n",
    "import os\n",
    "import re\n",
    "import datetime          as dt\n",
    "import matplotlib.pyplot as plt\n",
    "import seaborn           as sns\n",
    "import dask.dataframe    as dd"
   ]
  },
  {
   "cell_type": "code",
   "execution_count": 2,
   "metadata": {},
   "outputs": [
    {
     "data": {
      "text/html": [
       "<div>\n",
       "<style scoped>\n",
       "    .dataframe tbody tr th:only-of-type {\n",
       "        vertical-align: middle;\n",
       "    }\n",
       "\n",
       "    .dataframe tbody tr th {\n",
       "        vertical-align: top;\n",
       "    }\n",
       "\n",
       "    .dataframe thead th {\n",
       "        text-align: right;\n",
       "    }\n",
       "</style>\n",
       "<table border=\"1\" class=\"dataframe\">\n",
       "  <thead>\n",
       "    <tr style=\"text-align: right;\">\n",
       "      <th></th>\n",
       "      <th>fecha_dato</th>\n",
       "      <th>ncodpers</th>\n",
       "      <th>ind_empleado</th>\n",
       "      <th>pais_residencia</th>\n",
       "      <th>sexo</th>\n",
       "      <th>age</th>\n",
       "      <th>fecha_alta</th>\n",
       "      <th>ind_nuevo</th>\n",
       "      <th>antiguedad</th>\n",
       "      <th>indrel</th>\n",
       "      <th>...</th>\n",
       "      <th>ind_hip_fin_ult1</th>\n",
       "      <th>ind_plan_fin_ult1</th>\n",
       "      <th>ind_pres_fin_ult1</th>\n",
       "      <th>ind_reca_fin_ult1</th>\n",
       "      <th>ind_tjcr_fin_ult1</th>\n",
       "      <th>ind_valo_fin_ult1</th>\n",
       "      <th>ind_viv_fin_ult1</th>\n",
       "      <th>ind_nomina_ult1</th>\n",
       "      <th>ind_nom_pens_ult1</th>\n",
       "      <th>ind_recibo_ult1</th>\n",
       "    </tr>\n",
       "  </thead>\n",
       "  <tbody>\n",
       "    <tr>\n",
       "      <th>0</th>\n",
       "      <td>2015-01-28</td>\n",
       "      <td>1375586</td>\n",
       "      <td>N</td>\n",
       "      <td>ES</td>\n",
       "      <td>H</td>\n",
       "      <td>35</td>\n",
       "      <td>2015-01-12</td>\n",
       "      <td>0</td>\n",
       "      <td>6</td>\n",
       "      <td>1</td>\n",
       "      <td>...</td>\n",
       "      <td>0</td>\n",
       "      <td>0</td>\n",
       "      <td>0</td>\n",
       "      <td>0</td>\n",
       "      <td>0</td>\n",
       "      <td>0</td>\n",
       "      <td>0</td>\n",
       "      <td>0</td>\n",
       "      <td>0</td>\n",
       "      <td>0</td>\n",
       "    </tr>\n",
       "    <tr>\n",
       "      <th>1</th>\n",
       "      <td>2015-01-28</td>\n",
       "      <td>1050611</td>\n",
       "      <td>N</td>\n",
       "      <td>ES</td>\n",
       "      <td>V</td>\n",
       "      <td>23</td>\n",
       "      <td>2012-08-10</td>\n",
       "      <td>0</td>\n",
       "      <td>35</td>\n",
       "      <td>1</td>\n",
       "      <td>...</td>\n",
       "      <td>0</td>\n",
       "      <td>0</td>\n",
       "      <td>0</td>\n",
       "      <td>0</td>\n",
       "      <td>0</td>\n",
       "      <td>0</td>\n",
       "      <td>0</td>\n",
       "      <td>0</td>\n",
       "      <td>0</td>\n",
       "      <td>0</td>\n",
       "    </tr>\n",
       "    <tr>\n",
       "      <th>2</th>\n",
       "      <td>2015-01-28</td>\n",
       "      <td>1050612</td>\n",
       "      <td>N</td>\n",
       "      <td>ES</td>\n",
       "      <td>V</td>\n",
       "      <td>23</td>\n",
       "      <td>2012-08-10</td>\n",
       "      <td>0</td>\n",
       "      <td>35</td>\n",
       "      <td>1</td>\n",
       "      <td>...</td>\n",
       "      <td>0</td>\n",
       "      <td>0</td>\n",
       "      <td>0</td>\n",
       "      <td>0</td>\n",
       "      <td>0</td>\n",
       "      <td>0</td>\n",
       "      <td>0</td>\n",
       "      <td>0</td>\n",
       "      <td>0</td>\n",
       "      <td>0</td>\n",
       "    </tr>\n",
       "    <tr>\n",
       "      <th>3</th>\n",
       "      <td>2015-01-28</td>\n",
       "      <td>1050613</td>\n",
       "      <td>N</td>\n",
       "      <td>ES</td>\n",
       "      <td>H</td>\n",
       "      <td>22</td>\n",
       "      <td>2012-08-10</td>\n",
       "      <td>0</td>\n",
       "      <td>35</td>\n",
       "      <td>1</td>\n",
       "      <td>...</td>\n",
       "      <td>0</td>\n",
       "      <td>0</td>\n",
       "      <td>0</td>\n",
       "      <td>0</td>\n",
       "      <td>0</td>\n",
       "      <td>0</td>\n",
       "      <td>0</td>\n",
       "      <td>0</td>\n",
       "      <td>0</td>\n",
       "      <td>0</td>\n",
       "    </tr>\n",
       "    <tr>\n",
       "      <th>4</th>\n",
       "      <td>2015-01-28</td>\n",
       "      <td>1050614</td>\n",
       "      <td>N</td>\n",
       "      <td>ES</td>\n",
       "      <td>V</td>\n",
       "      <td>23</td>\n",
       "      <td>2012-08-10</td>\n",
       "      <td>0</td>\n",
       "      <td>35</td>\n",
       "      <td>1</td>\n",
       "      <td>...</td>\n",
       "      <td>0</td>\n",
       "      <td>0</td>\n",
       "      <td>0</td>\n",
       "      <td>0</td>\n",
       "      <td>0</td>\n",
       "      <td>0</td>\n",
       "      <td>0</td>\n",
       "      <td>0</td>\n",
       "      <td>0</td>\n",
       "      <td>0</td>\n",
       "    </tr>\n",
       "  </tbody>\n",
       "</table>\n",
       "<p>5 rows × 48 columns</p>\n",
       "</div>"
      ],
      "text/plain": [
       "   fecha_dato  ncodpers ind_empleado pais_residencia sexo  age  fecha_alta  \\\n",
       "0  2015-01-28   1375586            N              ES    H   35  2015-01-12   \n",
       "1  2015-01-28   1050611            N              ES    V   23  2012-08-10   \n",
       "2  2015-01-28   1050612            N              ES    V   23  2012-08-10   \n",
       "3  2015-01-28   1050613            N              ES    H   22  2012-08-10   \n",
       "4  2015-01-28   1050614            N              ES    V   23  2012-08-10   \n",
       "\n",
       "   ind_nuevo  antiguedad  indrel  ...  ind_hip_fin_ult1  ind_plan_fin_ult1  \\\n",
       "0          0           6       1  ...                 0                  0   \n",
       "1          0          35       1  ...                 0                  0   \n",
       "2          0          35       1  ...                 0                  0   \n",
       "3          0          35       1  ...                 0                  0   \n",
       "4          0          35       1  ...                 0                  0   \n",
       "\n",
       "  ind_pres_fin_ult1 ind_reca_fin_ult1 ind_tjcr_fin_ult1  ind_valo_fin_ult1  \\\n",
       "0                 0                 0                 0                  0   \n",
       "1                 0                 0                 0                  0   \n",
       "2                 0                 0                 0                  0   \n",
       "3                 0                 0                 0                  0   \n",
       "4                 0                 0                 0                  0   \n",
       "\n",
       "  ind_viv_fin_ult1 ind_nomina_ult1  ind_nom_pens_ult1  ind_recibo_ult1  \n",
       "0                0               0                  0                0  \n",
       "1                0               0                  0                0  \n",
       "2                0               0                  0                0  \n",
       "3                0               0                  0                0  \n",
       "4                0               0                  0                0  \n",
       "\n",
       "[5 rows x 48 columns]"
      ]
     },
     "execution_count": 2,
     "metadata": {},
     "output_type": "execute_result"
    }
   ],
   "source": [
    "df = pd.read_csv('train_ver2.csv', nrows =5)\n",
    "df"
   ]
  },
  {
   "cell_type": "code",
   "execution_count": 3,
   "metadata": {
    "scrolled": true
   },
   "outputs": [
    {
     "name": "stderr",
     "output_type": "stream",
     "text": [
      "C:\\Users\\Piyush\\miniconda3\\envs\\MLenv\\lib\\site-packages\\IPython\\core\\interactiveshell.py:3146: DtypeWarning: Columns (5,8,11,15) have mixed types.Specify dtype option on import or set low_memory=False.\n",
      "  interactivity=interactivity, compiler=compiler, result=result)\n"
     ]
    }
   ],
   "source": [
    "df = pd.read_csv('train_ver2.csv')\n"
   ]
  },
  {
   "cell_type": "code",
   "execution_count": 4,
   "metadata": {},
   "outputs": [
    {
     "data": {
      "text/plain": [
       "(13647309, 48)"
      ]
     },
     "execution_count": 4,
     "metadata": {},
     "output_type": "execute_result"
    }
   ],
   "source": [
    "df.shape"
   ]
  },
  {
   "cell_type": "markdown",
   "metadata": {},
   "source": [
    "> There are 13K datapoints."
   ]
  },
  {
   "cell_type": "code",
   "execution_count": 5,
   "metadata": {},
   "outputs": [
    {
     "name": "stdout",
     "output_type": "stream",
     "text": [
      "No of Nan values in our dataframe :  22\n"
     ]
    }
   ],
   "source": [
    "print(\"No of Nan values in our dataframe : \", sum(df.isnull().any()))"
   ]
  },
  {
   "cell_type": "markdown",
   "metadata": {},
   "source": [
    "> There are 22 rows where NAN values are present."
   ]
  },
  {
   "cell_type": "code",
   "execution_count": 6,
   "metadata": {},
   "outputs": [],
   "source": [
    "# df = dd.read_csv('train_ver2.csv', dtype={'conyuemp':'object','indrel_1mes':'object'}, assume_missing=True)"
   ]
  },
  {
   "cell_type": "code",
   "execution_count": 7,
   "metadata": {},
   "outputs": [
    {
     "name": "stdout",
     "output_type": "stream",
     "text": [
      "<class 'pandas.core.frame.DataFrame'>\n",
      "RangeIndex: 13647309 entries, 0 to 13647308\n",
      "Data columns (total 48 columns):\n",
      " #   Column                 Dtype  \n",
      "---  ------                 -----  \n",
      " 0   fecha_dato             object \n",
      " 1   ncodpers               int64  \n",
      " 2   ind_empleado           object \n",
      " 3   pais_residencia        object \n",
      " 4   sexo                   object \n",
      " 5   age                    object \n",
      " 6   fecha_alta             object \n",
      " 7   ind_nuevo              float64\n",
      " 8   antiguedad             object \n",
      " 9   indrel                 float64\n",
      " 10  ult_fec_cli_1t         object \n",
      " 11  indrel_1mes            object \n",
      " 12  tiprel_1mes            object \n",
      " 13  indresi                object \n",
      " 14  indext                 object \n",
      " 15  conyuemp               object \n",
      " 16  canal_entrada          object \n",
      " 17  indfall                object \n",
      " 18  tipodom                float64\n",
      " 19  cod_prov               float64\n",
      " 20  nomprov                object \n",
      " 21  ind_actividad_cliente  float64\n",
      " 22  renta                  float64\n",
      " 23  segmento               object \n",
      " 24  ind_ahor_fin_ult1      int64  \n",
      " 25  ind_aval_fin_ult1      int64  \n",
      " 26  ind_cco_fin_ult1       int64  \n",
      " 27  ind_cder_fin_ult1      int64  \n",
      " 28  ind_cno_fin_ult1       int64  \n",
      " 29  ind_ctju_fin_ult1      int64  \n",
      " 30  ind_ctma_fin_ult1      int64  \n",
      " 31  ind_ctop_fin_ult1      int64  \n",
      " 32  ind_ctpp_fin_ult1      int64  \n",
      " 33  ind_deco_fin_ult1      int64  \n",
      " 34  ind_deme_fin_ult1      int64  \n",
      " 35  ind_dela_fin_ult1      int64  \n",
      " 36  ind_ecue_fin_ult1      int64  \n",
      " 37  ind_fond_fin_ult1      int64  \n",
      " 38  ind_hip_fin_ult1       int64  \n",
      " 39  ind_plan_fin_ult1      int64  \n",
      " 40  ind_pres_fin_ult1      int64  \n",
      " 41  ind_reca_fin_ult1      int64  \n",
      " 42  ind_tjcr_fin_ult1      int64  \n",
      " 43  ind_valo_fin_ult1      int64  \n",
      " 44  ind_viv_fin_ult1       int64  \n",
      " 45  ind_nomina_ult1        float64\n",
      " 46  ind_nom_pens_ult1      float64\n",
      " 47  ind_recibo_ult1        int64  \n",
      "dtypes: float64(8), int64(23), object(17)\n",
      "memory usage: 4.9+ GB\n"
     ]
    }
   ],
   "source": [
    "df.info()"
   ]
  },
  {
   "cell_type": "markdown",
   "metadata": {},
   "source": [
    "> _Suggestion_ : It can be seen above that most of the columns are loaded as _objects_ , hence we can explicitly provide data type for each column to reduce RAM usage."
   ]
  },
  {
   "cell_type": "code",
   "execution_count": 8,
   "metadata": {},
   "outputs": [],
   "source": [
    "# print('Columns in our')\n",
    "# for x,i in enumerate(list(df.columns)):\n",
    "#     print(x,i)"
   ]
  },
  {
   "cell_type": "markdown",
   "metadata": {},
   "source": [
    "# 3. Univariate Analysis   "
   ]
  },
  {
   "cell_type": "code",
   "execution_count": 68,
   "metadata": {},
   "outputs": [
    {
     "name": "stdout",
     "output_type": "stream",
     "text": [
      "Shape of dataframe: (13647309, 49)\n"
     ]
    }
   ],
   "source": [
    "#----------------------------------------------------------#\n",
    "# Some variables and function for later use in analysis    #\n",
    "#----------------------------------------------------------#\n",
    "\n",
    "v_df_shape = df.shape\n",
    "print('Shape of dataframe:',v_df_shape)\n",
    "\n",
    "###########################################################################\n",
    "def get_null_count(col):\n",
    "    '''\n",
    "    This function will return NULL count for given column in df dataframe.\n",
    "    '''\n",
    "    count = (df[df[col].isnull()][col].shape[0])\n",
    "    print('Total count :',v_df_shape[0])\n",
    "    print('Null  count :',f\"{count:,d}\")\n",
    "    print('Null  %     :',round(count/v_df_shape[0]*100,4))\n",
    "###########################################################################"
   ]
  },
  {
   "cell_type": "markdown",
   "metadata": {},
   "source": [
    "## 3.1 For _fecha_dato_ (date):"
   ]
  },
  {
   "cell_type": "code",
   "execution_count": 10,
   "metadata": {},
   "outputs": [
    {
     "name": "stdout",
     "output_type": "stream",
     "text": [
      "Total count : 13647309\n",
      "Null  count : 0\n",
      "Null  %     : 0.0\n",
      "--------------------------------------------------\n"
     ]
    },
    {
     "data": {
      "text/plain": [
       "2016-05-28    931453\n",
       "2016-04-28    928274\n",
       "2016-03-28    925076\n",
       "2016-02-28    920904\n",
       "2016-01-28    916269\n",
       "2015-12-28    912021\n",
       "2015-11-28    906109\n",
       "2015-10-28    892251\n",
       "2015-09-28    865440\n",
       "2015-08-28    843201\n",
       "2015-07-28    829817\n",
       "2015-06-28    632110\n",
       "2015-05-28    631957\n",
       "2015-04-28    630367\n",
       "2015-03-28    629209\n",
       "2015-02-28    627394\n",
       "2015-01-28    625457\n",
       "Name: fecha_dato, dtype: int64"
      ]
     },
     "execution_count": 10,
     "metadata": {},
     "output_type": "execute_result"
    }
   ],
   "source": [
    "#Listing unique dates:\n",
    "get_null_count('fecha_dato')\n",
    "print('-'*50)\n",
    "df.fecha_dato.value_counts()"
   ]
  },
  {
   "cell_type": "code",
   "execution_count": 11,
   "metadata": {},
   "outputs": [
    {
     "data": {
      "image/png": "[encoded data removed]",
      "text/plain": [
       "<Figure size 1440x360 with 1 Axes>"
      ]
     },
     "metadata": {
      "needs_background": "light"
     },
     "output_type": "display_data"
    }
   ],
   "source": [
    "# let's plot above info\n",
    "\n",
    "dict_date = dict(df.fecha_dato.value_counts())\n",
    "v_date  = list(dict_date.keys())[::-1]\n",
    "v_count = list(dict_date.values())[::-1]\n",
    "\n",
    "plt.figure(figsize=(20,5))\n",
    "\n",
    "plt.bar(v_date, v_count, label='count of rows')\n",
    "# plt.scatter(v_date, v_count,  label='count of rows - points')\n",
    "plt.legend()\n",
    "plt.xlabel(\"month-->\")\n",
    "plt.ylabel(\"count of rows\")\n",
    "plt.title(\"count of rows for each month plot\")\n",
    "plt.grid()\n",
    "plt.show()"
   ]
  },
  {
   "cell_type": "markdown",
   "metadata": {},
   "source": [
    "__Observation__:\n",
    "- From above plot, it appears that number of rows per month has inceased almost 50% from Jan 2015 to Jan 2016.\n",
    "\n",
    "(If each month has single entry for every customers in a month, above plot shows that there is customer increase during this period. But we will verify this fact later as well)"
   ]
  },
  {
   "cell_type": "markdown",
   "metadata": {},
   "source": [
    "## 3.2 For _ncodpers_ :"
   ]
  },
  {
   "cell_type": "code",
   "execution_count": 12,
   "metadata": {},
   "outputs": [
    {
     "name": "stdout",
     "output_type": "stream",
     "text": [
      "Total count : 13647309\n",
      "Null  count : 0\n",
      "Null  %     : 0.0\n",
      "--------------------------------------------------\n",
      "Min : 15889\n",
      "Max : 1553689\n",
      "--------------------------------------------------\n",
      "Unique Count : 956645\n"
     ]
    }
   ],
   "source": [
    "#----------------------------------------------------------#\n",
    "# Although ncopers is customer id, still we can check for  #\n",
    "# min, max.                                                #        \n",
    "#----------------------------------------------------------#\n",
    "get_null_count('ncodpers')\n",
    "print('-'*50)\n",
    "print('Min :' , df.ncodpers.min())\n",
    "print('Max :' , df.ncodpers.max())\n",
    "print('-'*50)\n",
    "# print('Diff :' , df.ncodpers.max() - df.ncodpers.min())\n",
    "print('Unique Count :' , len(df.ncodpers.unique()))"
   ]
  },
  {
   "cell_type": "code",
   "execution_count": 13,
   "metadata": {},
   "outputs": [
    {
     "data": {
      "image/png": "[encoded data removed]",
      "text/plain": [
       "<Figure size 1440x360 with 1 Axes>"
      ]
     },
     "metadata": {
      "needs_background": "light"
     },
     "output_type": "display_data"
    }
   ],
   "source": [
    "# let's plot unique customer per month for given data:\n",
    "\n",
    "# v_date  = list(dict_date.keys())[::-1]\n",
    "v_count = []\n",
    "\n",
    "for date in v_date:\n",
    "    v_count.append(len(df[df.fecha_dato == date].ncodpers.unique()))\n",
    "\n",
    "\n",
    "plt.figure(figsize=(20,5))\n",
    "\n",
    "plt.bar(v_date, v_count, label='count of rows')\n",
    "# plt.scatter(v_date, v_count,  label='count of rows - points')\n",
    "plt.legend()\n",
    "plt.xlabel(\"month-->\")\n",
    "plt.ylabel(\"count of rows\")\n",
    "plt.title(\"count of rows for each month plot\")\n",
    "plt.grid()\n",
    "plt.show()"
   ]
  },
  {
   "cell_type": "markdown",
   "metadata": {},
   "source": [
    "__Observation__:\n",
    "- Above plot shows count of unique customer per month.\n",
    "- Count has inceased drastically in July '15, and on increasing trend afterwards.\n",
    "- No NULL count."
   ]
  },
  {
   "cell_type": "markdown",
   "metadata": {},
   "source": [
    "## 3.3 For _ind_empleado_ :\n",
    "(Employee index: A active, B ex employed, F filial, N not employee, P pasive)"
   ]
  },
  {
   "cell_type": "code",
   "execution_count": 14,
   "metadata": {
    "scrolled": false
   },
   "outputs": [
    {
     "name": "stdout",
     "output_type": "stream",
     "text": [
      "Total count : 13647309\n",
      "Null  count : 27734\n",
      "Null  %     : 0.2032\n",
      "--------------------------------------------------\n"
     ]
    },
    {
     "data": {
      "text/plain": [
       "N    13610977\n",
       "B        3566\n",
       "F        2523\n",
       "A        2492\n",
       "S          17\n",
       "Name: ind_empleado, dtype: int64"
      ]
     },
     "execution_count": 14,
     "metadata": {},
     "output_type": "execute_result"
    }
   ],
   "source": [
    "get_null_count('ind_empleado')\n",
    "print('-'*50)\n",
    "df.ind_empleado.value_counts()"
   ]
  },
  {
   "cell_type": "markdown",
   "metadata": {},
   "source": [
    "__Observation__:\n",
    "- Most of the customers are _N_ , i.e. not employee of the bank.\n",
    "- _S_ type customers are not mentioned, however their count is quite less."
   ]
  },
  {
   "cell_type": "code",
   "execution_count": 15,
   "metadata": {},
   "outputs": [
    {
     "data": {
      "text/html": [
       "<div>\n",
       "<style scoped>\n",
       "    .dataframe tbody tr th:only-of-type {\n",
       "        vertical-align: middle;\n",
       "    }\n",
       "\n",
       "    .dataframe tbody tr th {\n",
       "        vertical-align: top;\n",
       "    }\n",
       "\n",
       "    .dataframe thead th {\n",
       "        text-align: right;\n",
       "    }\n",
       "</style>\n",
       "<table border=\"1\" class=\"dataframe\">\n",
       "  <thead>\n",
       "    <tr style=\"text-align: right;\">\n",
       "      <th></th>\n",
       "      <th>fecha_dato</th>\n",
       "      <th>ncodpers</th>\n",
       "      <th>ind_empleado</th>\n",
       "      <th>pais_residencia</th>\n",
       "      <th>sexo</th>\n",
       "      <th>age</th>\n",
       "      <th>fecha_alta</th>\n",
       "      <th>ind_nuevo</th>\n",
       "      <th>antiguedad</th>\n",
       "      <th>indrel</th>\n",
       "      <th>...</th>\n",
       "      <th>ind_hip_fin_ult1</th>\n",
       "      <th>ind_plan_fin_ult1</th>\n",
       "      <th>ind_pres_fin_ult1</th>\n",
       "      <th>ind_reca_fin_ult1</th>\n",
       "      <th>ind_tjcr_fin_ult1</th>\n",
       "      <th>ind_valo_fin_ult1</th>\n",
       "      <th>ind_viv_fin_ult1</th>\n",
       "      <th>ind_nomina_ult1</th>\n",
       "      <th>ind_nom_pens_ult1</th>\n",
       "      <th>ind_recibo_ult1</th>\n",
       "    </tr>\n",
       "  </thead>\n",
       "  <tbody>\n",
       "    <tr>\n",
       "      <th>487513</th>\n",
       "      <td>2015-01-28</td>\n",
       "      <td>720152</td>\n",
       "      <td>S</td>\n",
       "      <td>ES</td>\n",
       "      <td>H</td>\n",
       "      <td>38</td>\n",
       "      <td>2007-09-21</td>\n",
       "      <td>0.0</td>\n",
       "      <td>94</td>\n",
       "      <td>1.0</td>\n",
       "      <td>...</td>\n",
       "      <td>0</td>\n",
       "      <td>1</td>\n",
       "      <td>0</td>\n",
       "      <td>0</td>\n",
       "      <td>0</td>\n",
       "      <td>1</td>\n",
       "      <td>0</td>\n",
       "      <td>1.0</td>\n",
       "      <td>1.0</td>\n",
       "      <td>1</td>\n",
       "    </tr>\n",
       "    <tr>\n",
       "      <th>779976</th>\n",
       "      <td>2015-02-28</td>\n",
       "      <td>720152</td>\n",
       "      <td>S</td>\n",
       "      <td>ES</td>\n",
       "      <td>H</td>\n",
       "      <td>38</td>\n",
       "      <td>2007-09-21</td>\n",
       "      <td>0.0</td>\n",
       "      <td>94</td>\n",
       "      <td>1.0</td>\n",
       "      <td>...</td>\n",
       "      <td>0</td>\n",
       "      <td>1</td>\n",
       "      <td>0</td>\n",
       "      <td>0</td>\n",
       "      <td>0</td>\n",
       "      <td>1</td>\n",
       "      <td>0</td>\n",
       "      <td>1.0</td>\n",
       "      <td>1.0</td>\n",
       "      <td>1</td>\n",
       "    </tr>\n",
       "    <tr>\n",
       "      <th>1408730</th>\n",
       "      <td>2015-03-28</td>\n",
       "      <td>720152</td>\n",
       "      <td>S</td>\n",
       "      <td>ES</td>\n",
       "      <td>H</td>\n",
       "      <td>38</td>\n",
       "      <td>2007-09-21</td>\n",
       "      <td>0.0</td>\n",
       "      <td>94</td>\n",
       "      <td>1.0</td>\n",
       "      <td>...</td>\n",
       "      <td>0</td>\n",
       "      <td>1</td>\n",
       "      <td>0</td>\n",
       "      <td>0</td>\n",
       "      <td>1</td>\n",
       "      <td>1</td>\n",
       "      <td>0</td>\n",
       "      <td>1.0</td>\n",
       "      <td>1.0</td>\n",
       "      <td>1</td>\n",
       "    </tr>\n",
       "    <tr>\n",
       "      <th>2036067</th>\n",
       "      <td>2015-04-28</td>\n",
       "      <td>720152</td>\n",
       "      <td>S</td>\n",
       "      <td>ES</td>\n",
       "      <td>H</td>\n",
       "      <td>38</td>\n",
       "      <td>2007-09-21</td>\n",
       "      <td>0.0</td>\n",
       "      <td>94</td>\n",
       "      <td>1.0</td>\n",
       "      <td>...</td>\n",
       "      <td>0</td>\n",
       "      <td>1</td>\n",
       "      <td>0</td>\n",
       "      <td>0</td>\n",
       "      <td>0</td>\n",
       "      <td>1</td>\n",
       "      <td>0</td>\n",
       "      <td>1.0</td>\n",
       "      <td>1.0</td>\n",
       "      <td>1</td>\n",
       "    </tr>\n",
       "    <tr>\n",
       "      <th>2990869</th>\n",
       "      <td>2015-05-28</td>\n",
       "      <td>720152</td>\n",
       "      <td>S</td>\n",
       "      <td>ES</td>\n",
       "      <td>H</td>\n",
       "      <td>38</td>\n",
       "      <td>2007-09-21</td>\n",
       "      <td>0.0</td>\n",
       "      <td>94</td>\n",
       "      <td>1.0</td>\n",
       "      <td>...</td>\n",
       "      <td>0</td>\n",
       "      <td>1</td>\n",
       "      <td>0</td>\n",
       "      <td>0</td>\n",
       "      <td>1</td>\n",
       "      <td>1</td>\n",
       "      <td>0</td>\n",
       "      <td>1.0</td>\n",
       "      <td>1.0</td>\n",
       "      <td>1</td>\n",
       "    </tr>\n",
       "    <tr>\n",
       "      <th>3622665</th>\n",
       "      <td>2015-06-28</td>\n",
       "      <td>720152</td>\n",
       "      <td>S</td>\n",
       "      <td>ES</td>\n",
       "      <td>H</td>\n",
       "      <td>38</td>\n",
       "      <td>2007-09-21</td>\n",
       "      <td>0.0</td>\n",
       "      <td>94</td>\n",
       "      <td>1.0</td>\n",
       "      <td>...</td>\n",
       "      <td>0</td>\n",
       "      <td>1</td>\n",
       "      <td>0</td>\n",
       "      <td>0</td>\n",
       "      <td>1</td>\n",
       "      <td>1</td>\n",
       "      <td>0</td>\n",
       "      <td>1.0</td>\n",
       "      <td>1.0</td>\n",
       "      <td>1</td>\n",
       "    </tr>\n",
       "    <tr>\n",
       "      <th>3812107</th>\n",
       "      <td>2015-07-28</td>\n",
       "      <td>720152</td>\n",
       "      <td>S</td>\n",
       "      <td>ES</td>\n",
       "      <td>H</td>\n",
       "      <td>38</td>\n",
       "      <td>2007-09-21</td>\n",
       "      <td>0.0</td>\n",
       "      <td>94</td>\n",
       "      <td>1.0</td>\n",
       "      <td>...</td>\n",
       "      <td>0</td>\n",
       "      <td>1</td>\n",
       "      <td>0</td>\n",
       "      <td>0</td>\n",
       "      <td>1</td>\n",
       "      <td>1</td>\n",
       "      <td>0</td>\n",
       "      <td>1.0</td>\n",
       "      <td>1.0</td>\n",
       "      <td>0</td>\n",
       "    </tr>\n",
       "    <tr>\n",
       "      <th>4882255</th>\n",
       "      <td>2015-08-28</td>\n",
       "      <td>720152</td>\n",
       "      <td>S</td>\n",
       "      <td>ES</td>\n",
       "      <td>H</td>\n",
       "      <td>38</td>\n",
       "      <td>2007-09-21</td>\n",
       "      <td>0.0</td>\n",
       "      <td>95</td>\n",
       "      <td>1.0</td>\n",
       "      <td>...</td>\n",
       "      <td>0</td>\n",
       "      <td>1</td>\n",
       "      <td>0</td>\n",
       "      <td>0</td>\n",
       "      <td>0</td>\n",
       "      <td>1</td>\n",
       "      <td>0</td>\n",
       "      <td>1.0</td>\n",
       "      <td>1.0</td>\n",
       "      <td>0</td>\n",
       "    </tr>\n",
       "    <tr>\n",
       "      <th>5969010</th>\n",
       "      <td>2015-09-28</td>\n",
       "      <td>720152</td>\n",
       "      <td>S</td>\n",
       "      <td>ES</td>\n",
       "      <td>H</td>\n",
       "      <td>38</td>\n",
       "      <td>2007-09-21</td>\n",
       "      <td>0.0</td>\n",
       "      <td>96</td>\n",
       "      <td>1.0</td>\n",
       "      <td>...</td>\n",
       "      <td>0</td>\n",
       "      <td>1</td>\n",
       "      <td>0</td>\n",
       "      <td>0</td>\n",
       "      <td>0</td>\n",
       "      <td>1</td>\n",
       "      <td>0</td>\n",
       "      <td>1.0</td>\n",
       "      <td>1.0</td>\n",
       "      <td>0</td>\n",
       "    </tr>\n",
       "    <tr>\n",
       "      <th>7020107</th>\n",
       "      <td>2015-10-28</td>\n",
       "      <td>720152</td>\n",
       "      <td>S</td>\n",
       "      <td>ES</td>\n",
       "      <td>H</td>\n",
       "      <td>38</td>\n",
       "      <td>2007-09-21</td>\n",
       "      <td>0.0</td>\n",
       "      <td>97</td>\n",
       "      <td>1.0</td>\n",
       "      <td>...</td>\n",
       "      <td>0</td>\n",
       "      <td>1</td>\n",
       "      <td>0</td>\n",
       "      <td>0</td>\n",
       "      <td>1</td>\n",
       "      <td>1</td>\n",
       "      <td>0</td>\n",
       "      <td>1.0</td>\n",
       "      <td>1.0</td>\n",
       "      <td>1</td>\n",
       "    </tr>\n",
       "    <tr>\n",
       "      <th>7337100</th>\n",
       "      <td>2015-11-28</td>\n",
       "      <td>720152</td>\n",
       "      <td>S</td>\n",
       "      <td>ES</td>\n",
       "      <td>H</td>\n",
       "      <td>38</td>\n",
       "      <td>2007-09-21</td>\n",
       "      <td>0.0</td>\n",
       "      <td>98</td>\n",
       "      <td>1.0</td>\n",
       "      <td>...</td>\n",
       "      <td>0</td>\n",
       "      <td>1</td>\n",
       "      <td>0</td>\n",
       "      <td>0</td>\n",
       "      <td>1</td>\n",
       "      <td>1</td>\n",
       "      <td>0</td>\n",
       "      <td>1.0</td>\n",
       "      <td>1.0</td>\n",
       "      <td>1</td>\n",
       "    </tr>\n",
       "    <tr>\n",
       "      <th>8754799</th>\n",
       "      <td>2015-12-28</td>\n",
       "      <td>720152</td>\n",
       "      <td>S</td>\n",
       "      <td>ES</td>\n",
       "      <td>H</td>\n",
       "      <td>38</td>\n",
       "      <td>2007-09-21</td>\n",
       "      <td>0.0</td>\n",
       "      <td>99</td>\n",
       "      <td>1.0</td>\n",
       "      <td>...</td>\n",
       "      <td>0</td>\n",
       "      <td>1</td>\n",
       "      <td>0</td>\n",
       "      <td>0</td>\n",
       "      <td>0</td>\n",
       "      <td>1</td>\n",
       "      <td>0</td>\n",
       "      <td>1.0</td>\n",
       "      <td>1.0</td>\n",
       "      <td>1</td>\n",
       "    </tr>\n",
       "    <tr>\n",
       "      <th>9512511</th>\n",
       "      <td>2016-01-28</td>\n",
       "      <td>720152</td>\n",
       "      <td>S</td>\n",
       "      <td>ES</td>\n",
       "      <td>H</td>\n",
       "      <td>39</td>\n",
       "      <td>2007-09-21</td>\n",
       "      <td>0.0</td>\n",
       "      <td>100</td>\n",
       "      <td>1.0</td>\n",
       "      <td>...</td>\n",
       "      <td>0</td>\n",
       "      <td>1</td>\n",
       "      <td>0</td>\n",
       "      <td>0</td>\n",
       "      <td>1</td>\n",
       "      <td>1</td>\n",
       "      <td>0</td>\n",
       "      <td>1.0</td>\n",
       "      <td>1.0</td>\n",
       "      <td>1</td>\n",
       "    </tr>\n",
       "    <tr>\n",
       "      <th>10743467</th>\n",
       "      <td>2016-02-28</td>\n",
       "      <td>720152</td>\n",
       "      <td>S</td>\n",
       "      <td>ES</td>\n",
       "      <td>H</td>\n",
       "      <td>38</td>\n",
       "      <td>2007-09-21</td>\n",
       "      <td>0.0</td>\n",
       "      <td>101</td>\n",
       "      <td>1.0</td>\n",
       "      <td>...</td>\n",
       "      <td>0</td>\n",
       "      <td>1</td>\n",
       "      <td>0</td>\n",
       "      <td>0</td>\n",
       "      <td>1</td>\n",
       "      <td>1</td>\n",
       "      <td>0</td>\n",
       "      <td>1.0</td>\n",
       "      <td>1.0</td>\n",
       "      <td>1</td>\n",
       "    </tr>\n",
       "    <tr>\n",
       "      <th>11516690</th>\n",
       "      <td>2016-03-28</td>\n",
       "      <td>720152</td>\n",
       "      <td>S</td>\n",
       "      <td>ES</td>\n",
       "      <td>H</td>\n",
       "      <td>39</td>\n",
       "      <td>2007-09-21</td>\n",
       "      <td>0.0</td>\n",
       "      <td>102</td>\n",
       "      <td>1.0</td>\n",
       "      <td>...</td>\n",
       "      <td>0</td>\n",
       "      <td>1</td>\n",
       "      <td>0</td>\n",
       "      <td>0</td>\n",
       "      <td>1</td>\n",
       "      <td>1</td>\n",
       "      <td>0</td>\n",
       "      <td>1.0</td>\n",
       "      <td>1.0</td>\n",
       "      <td>1</td>\n",
       "    </tr>\n",
       "    <tr>\n",
       "      <th>11818534</th>\n",
       "      <td>2016-04-28</td>\n",
       "      <td>720152</td>\n",
       "      <td>S</td>\n",
       "      <td>ES</td>\n",
       "      <td>H</td>\n",
       "      <td>39</td>\n",
       "      <td>2007-09-21</td>\n",
       "      <td>0.0</td>\n",
       "      <td>103</td>\n",
       "      <td>1.0</td>\n",
       "      <td>...</td>\n",
       "      <td>0</td>\n",
       "      <td>1</td>\n",
       "      <td>0</td>\n",
       "      <td>0</td>\n",
       "      <td>1</td>\n",
       "      <td>1</td>\n",
       "      <td>0</td>\n",
       "      <td>1.0</td>\n",
       "      <td>1.0</td>\n",
       "      <td>1</td>\n",
       "    </tr>\n",
       "    <tr>\n",
       "      <th>12750772</th>\n",
       "      <td>2016-05-28</td>\n",
       "      <td>720152</td>\n",
       "      <td>S</td>\n",
       "      <td>ES</td>\n",
       "      <td>H</td>\n",
       "      <td>39</td>\n",
       "      <td>2007-09-21</td>\n",
       "      <td>0.0</td>\n",
       "      <td>104</td>\n",
       "      <td>1.0</td>\n",
       "      <td>...</td>\n",
       "      <td>0</td>\n",
       "      <td>1</td>\n",
       "      <td>0</td>\n",
       "      <td>0</td>\n",
       "      <td>0</td>\n",
       "      <td>1</td>\n",
       "      <td>0</td>\n",
       "      <td>1.0</td>\n",
       "      <td>1.0</td>\n",
       "      <td>1</td>\n",
       "    </tr>\n",
       "  </tbody>\n",
       "</table>\n",
       "<p>17 rows × 48 columns</p>\n",
       "</div>"
      ],
      "text/plain": [
       "          fecha_dato  ncodpers ind_empleado pais_residencia sexo  age  \\\n",
       "487513    2015-01-28    720152            S              ES    H   38   \n",
       "779976    2015-02-28    720152            S              ES    H   38   \n",
       "1408730   2015-03-28    720152            S              ES    H   38   \n",
       "2036067   2015-04-28    720152            S              ES    H   38   \n",
       "2990869   2015-05-28    720152            S              ES    H   38   \n",
       "3622665   2015-06-28    720152            S              ES    H   38   \n",
       "3812107   2015-07-28    720152            S              ES    H   38   \n",
       "4882255   2015-08-28    720152            S              ES    H   38   \n",
       "5969010   2015-09-28    720152            S              ES    H   38   \n",
       "7020107   2015-10-28    720152            S              ES    H   38   \n",
       "7337100   2015-11-28    720152            S              ES    H   38   \n",
       "8754799   2015-12-28    720152            S              ES    H   38   \n",
       "9512511   2016-01-28    720152            S              ES    H   39   \n",
       "10743467  2016-02-28    720152            S              ES    H   38   \n",
       "11516690  2016-03-28    720152            S              ES    H   39   \n",
       "11818534  2016-04-28    720152            S              ES    H   39   \n",
       "12750772  2016-05-28    720152            S              ES    H   39   \n",
       "\n",
       "          fecha_alta  ind_nuevo antiguedad  indrel  ... ind_hip_fin_ult1  \\\n",
       "487513    2007-09-21        0.0         94     1.0  ...                0   \n",
       "779976    2007-09-21        0.0         94     1.0  ...                0   \n",
       "1408730   2007-09-21        0.0         94     1.0  ...                0   \n",
       "2036067   2007-09-21        0.0         94     1.0  ...                0   \n",
       "2990869   2007-09-21        0.0         94     1.0  ...                0   \n",
       "3622665   2007-09-21        0.0         94     1.0  ...                0   \n",
       "3812107   2007-09-21        0.0         94     1.0  ...                0   \n",
       "4882255   2007-09-21        0.0         95     1.0  ...                0   \n",
       "5969010   2007-09-21        0.0         96     1.0  ...                0   \n",
       "7020107   2007-09-21        0.0         97     1.0  ...                0   \n",
       "7337100   2007-09-21        0.0         98     1.0  ...                0   \n",
       "8754799   2007-09-21        0.0         99     1.0  ...                0   \n",
       "9512511   2007-09-21        0.0        100     1.0  ...                0   \n",
       "10743467  2007-09-21        0.0        101     1.0  ...                0   \n",
       "11516690  2007-09-21        0.0        102     1.0  ...                0   \n",
       "11818534  2007-09-21        0.0        103     1.0  ...                0   \n",
       "12750772  2007-09-21        0.0        104     1.0  ...                0   \n",
       "\n",
       "         ind_plan_fin_ult1 ind_pres_fin_ult1 ind_reca_fin_ult1  \\\n",
       "487513                   1                 0                 0   \n",
       "779976                   1                 0                 0   \n",
       "1408730                  1                 0                 0   \n",
       "2036067                  1                 0                 0   \n",
       "2990869                  1                 0                 0   \n",
       "3622665                  1                 0                 0   \n",
       "3812107                  1                 0                 0   \n",
       "4882255                  1                 0                 0   \n",
       "5969010                  1                 0                 0   \n",
       "7020107                  1                 0                 0   \n",
       "7337100                  1                 0                 0   \n",
       "8754799                  1                 0                 0   \n",
       "9512511                  1                 0                 0   \n",
       "10743467                 1                 0                 0   \n",
       "11516690                 1                 0                 0   \n",
       "11818534                 1                 0                 0   \n",
       "12750772                 1                 0                 0   \n",
       "\n",
       "         ind_tjcr_fin_ult1 ind_valo_fin_ult1 ind_viv_fin_ult1 ind_nomina_ult1  \\\n",
       "487513                   0                 1                0             1.0   \n",
       "779976                   0                 1                0             1.0   \n",
       "1408730                  1                 1                0             1.0   \n",
       "2036067                  0                 1                0             1.0   \n",
       "2990869                  1                 1                0             1.0   \n",
       "3622665                  1                 1                0             1.0   \n",
       "3812107                  1                 1                0             1.0   \n",
       "4882255                  0                 1                0             1.0   \n",
       "5969010                  0                 1                0             1.0   \n",
       "7020107                  1                 1                0             1.0   \n",
       "7337100                  1                 1                0             1.0   \n",
       "8754799                  0                 1                0             1.0   \n",
       "9512511                  1                 1                0             1.0   \n",
       "10743467                 1                 1                0             1.0   \n",
       "11516690                 1                 1                0             1.0   \n",
       "11818534                 1                 1                0             1.0   \n",
       "12750772                 0                 1                0             1.0   \n",
       "\n",
       "          ind_nom_pens_ult1  ind_recibo_ult1  \n",
       "487513                  1.0                1  \n",
       "779976                  1.0                1  \n",
       "1408730                 1.0                1  \n",
       "2036067                 1.0                1  \n",
       "2990869                 1.0                1  \n",
       "3622665                 1.0                1  \n",
       "3812107                 1.0                0  \n",
       "4882255                 1.0                0  \n",
       "5969010                 1.0                0  \n",
       "7020107                 1.0                1  \n",
       "7337100                 1.0                1  \n",
       "8754799                 1.0                1  \n",
       "9512511                 1.0                1  \n",
       "10743467                1.0                1  \n",
       "11516690                1.0                1  \n",
       "11818534                1.0                1  \n",
       "12750772                1.0                1  \n",
       "\n",
       "[17 rows x 48 columns]"
      ]
     },
     "execution_count": 15,
     "metadata": {},
     "output_type": "execute_result"
    }
   ],
   "source": [
    "df[df.ind_empleado == 'S']"
   ]
  },
  {
   "cell_type": "markdown",
   "metadata": {},
   "source": [
    "__Observation__:\n",
    "- We have only 1 customer with type _S_."
   ]
  },
  {
   "cell_type": "markdown",
   "metadata": {},
   "source": [
    "## 3.4 For _pais_residencia_ :\n",
    "(Customer's Country residence)"
   ]
  },
  {
   "cell_type": "code",
   "execution_count": 16,
   "metadata": {
    "scrolled": true
   },
   "outputs": [
    {
     "name": "stdout",
     "output_type": "stream",
     "text": [
      "Total count : 13647309\n",
      "Null  count : 27734\n",
      "Null  %     : 0.2032\n",
      "--------------------------------------------------\n"
     ]
    },
    {
     "data": {
      "text/plain": [
       "ES    13553710\n",
       "FR        5161\n",
       "AR        4835\n",
       "DE        4625\n",
       "GB        4605\n",
       "        ...   \n",
       "DJ          11\n",
       "ZW          11\n",
       "JM          11\n",
       "BM           6\n",
       "MT           2\n",
       "Name: pais_residencia, Length: 118, dtype: int64"
      ]
     },
     "execution_count": 16,
     "metadata": {},
     "output_type": "execute_result"
    }
   ],
   "source": [
    "get_null_count('pais_residencia')\n",
    "print('-'*50)\n",
    "df.pais_residencia.value_counts()"
   ]
  },
  {
   "cell_type": "markdown",
   "metadata": {},
   "source": [
    "__Observation__:\n",
    "- Most of the customers have residence country as _ES_ , i.e. Spain, which is self explanatory.\n",
    "\n",
    "(refer : https://countrycode.org/)"
   ]
  },
  {
   "cell_type": "markdown",
   "metadata": {},
   "source": [
    "## 3.5 For _sexo_ :"
   ]
  },
  {
   "cell_type": "code",
   "execution_count": 17,
   "metadata": {
    "scrolled": true
   },
   "outputs": [
    {
     "name": "stdout",
     "output_type": "stream",
     "text": [
      "Total count : 13647309\n",
      "Null  count : 27804\n",
      "Null  %     : 0.2037\n",
      "--------------------------------------------------\n",
      "Unique values count:\n",
      "{'V': 7424252, 'H': 6195253}\n",
      "--------------------------------------------------\n",
      "% of V: 55\n",
      "% of H: 45\n"
     ]
    }
   ],
   "source": [
    "get_null_count('sexo')\n",
    "print('-'*50)\n",
    "print('Unique values count:')\n",
    "dict_sexo = dict(df.sexo.value_counts())\n",
    "print(dict_sexo)\n",
    "print('-'*50)\n",
    "print('% of V:',round(dict_sexo['V']/(dict_sexo['V']+dict_sexo['H'])*100))\n",
    "print('% of H:',round(dict_sexo['H']/(dict_sexo['V']+dict_sexo['H'])*100))"
   ]
  },
  {
   "cell_type": "markdown",
   "metadata": {},
   "source": [
    "__Observation__:\n",
    "- For both sex, we have records equally divided.\n",
    "- NULL count is similar to others, ~0.2%\n",
    "\n",
    "\n",
    "(refer : https://countrycode.org/)"
   ]
  },
  {
   "cell_type": "markdown",
   "metadata": {},
   "source": [
    "## 3.6 For _age_ :"
   ]
  },
  {
   "cell_type": "code",
   "execution_count": 18,
   "metadata": {
    "scrolled": false
   },
   "outputs": [
    {
     "name": "stdout",
     "output_type": "stream",
     "text": [
      "Total count : 13647309\n",
      "Null  count : 0\n",
      "Null  %     : 0.0\n",
      "--------------------------------------------------\n",
      "'sexo' dtype : object\n",
      "\n",
      "\n",
      "{23: 542682, 24: 527526, 22: 524620, 21: 500941, 20: 370847, 25: 345664, 26: 250641, ' 23': 237202, 43: 231501, 44: 229359, 42: 227626, 45: 224073, 41: 221432, 46: 214320, ' 22': 211694, ' 24': 207259, 40: 205668, 47: 204715, 27: 203881, 48: 194513, 39: 186583, 49: 179384, ' 21': 175047, 28: 174169, 50: 169287, 38: 166836, 51: 159013, 37: 154889, 52: 152009, 29: 149706, 53: 144709, 36: 144315, 30: 135504, 35: 133801, 54: 130437, 34: 127444, ' 25': 126352, 33: 124767, 32: 123463, 31: 123149, 55: 118753, 56: 108400, 57: 103303, ' 26': 97137, 58: 96587, ' 44': 93596, ' 43': 92802, ' 42': 92087, ' 45': 90698, 59: 89110, ' 41': 87619, 60: 85052, ' 46': 85045, ' 40': 82086, ' 47': 81790, 61: 78170, ' 27': 78100, ' 48': 77063, ' 39': 73965, 62: 72912, ' 49': 71100, ' 50': 67096, ' 28': 66023, 63: 66000, ' 38': 65127, ' 51': 64284, 64: 62894, 65: 61032, ' 52': 59602, 66: 58447, ' 53': 57818, ' 37': 57531, 67: 56132, 68: 56088, 69: 56084, ' 29': 56003, ' 36': 54107, ' 20': 52020, 70: 51483, ' 54': 51074, ' 30': 50536, ' 35': 49776, 72: 48876, 71: 47433, ' 34': 47130, ' 55': 46602, 73: 46511, ' 32': 46074, ' 33': 45710, ' 31': 44836, 74: 42988, ' 56': 42940, ' 57': 41342, ' 58': 38152, 75: 37189, 77: 36144, ' 59': 35067, 76: 34799, ' 60': 32782, ' 61': 30186, ' 62': 28274, ' NA': 27734, 81: 27656, ' 63': 25521, 80: 25194, 79: 25182, 78: 25106, ' 64': 24504, 82: 24498, ' 65': 23718, 83: 23063, ' 66': 22896, ' 68': 22273, 84: 21736, ' 69': 21661, ' 67': 21561, 85: 20245, ' 71': 19392, ' 72': 18788, ' 70': 18709, 86: 18243, ' 73': 17920, 19: 17819, 87: 17143, ' 74': 16098, 88: 15873, ' 76': 14198, 89: 14036, ' 75': 13408, ' 77': 13074, 90: 12431, 91: 11000, ' 80': 10579, ' 81': 10561, 92: 9943, ' 79': 9883, ' 82': 9440, ' 78': 9252, 15: 8976, ' 83': 8797, 13: 8662, 14: 8633, 93: 8619, 12: 8502, ' 84': 8388, 17: 8284, 16: 8112, 18: 7621, ' 85': 7509, 94: 7451, 11: 6980, ' 86': 6713, ' 87': 6505, 95: 6366, ' 88': 5845, 96: 5549, 10: 5220, ' 89': 5139, 97: 4463, ' 90': 4432, ' 15': 4142, ' 91': 4098, ' 13': 4083, ' 12': 4044, ' 14': 4034, 9: 3971, ' 19': 3778, ' 17': 3669, ' 16': 3647, 98: 3570, ' 92': 3549, ' 11': 3501, ' 18': 3368, 8: 3231, ' 93': 3023, ' 10': 2730, 99: 2698, ' 94': 2634, 6: 2564, 7: 2556, 100: 2417, ' 95': 2145, 5: 2027, 101: 1986, ' 96': 1931, '  9': 1916, 102: 1726, 103: 1584, 4: 1529, '  8': 1513, ' 97': 1499, '  7': 1236, 3: 1119, '  6': 1109, ' 98': 1052, 104: 1043, '  5': 977, 105: 973, ' 99': 919, 106: 707, '  4': 681, '101': 680, '100': 633, '102': 609, 2: 603, 107: 439, '103': 419, '  3': 415, 108: 384, '105': 307, '104': 307, 110: 218, 109: 205, 111: 203, '106': 192, '107': 155, 112: 140, '  2': 130, 113: 93, '108': 72, '109': 60, 116: 51, '111': 49, '112': 48, '110': 43, 115: 43, '115': 39, '113': 24, 114: 22, 117: 14, '116': 12, 163: 8, 127: 8, 164: 3, 126: 3}\n"
     ]
    }
   ],
   "source": [
    "get_null_count('age')\n",
    "print('-'*50)\n",
    "print('\\'sexo\\' dtype :',df.age.dtype)\n",
    "print('\\n')\n",
    "x=df.age.value_counts().to_dict()\n",
    "print(x)"
   ]
  },
  {
   "cell_type": "markdown",
   "metadata": {},
   "source": [
    "__Observation__:\n",
    "- We can see above that _age_ is of dtype 'Object'. It means we are required to remove trailing/leading spaces.\n",
    "- e.g. _23: 542682_ and _' 23': 237202_ in first row should be considered as single count.\n",
    "- Also, we can see _' NA': 27734_ in 11th row. It means although we got zero null count, still we have null values as NA."
   ]
  },
  {
   "cell_type": "markdown",
   "metadata": {},
   "source": [
    "## 3.7 For _fecha_alta_ :\n",
    "(The date in which the customer became as the first holder of a contract in the bank)"
   ]
  },
  {
   "cell_type": "code",
   "execution_count": 19,
   "metadata": {
    "scrolled": true
   },
   "outputs": [
    {
     "name": "stdout",
     "output_type": "stream",
     "text": [
      "Total count : 13647309\n",
      "Null  count : 27734\n",
      "Null  %     : 0.2032\n",
      "--------------------------------------------------\n"
     ]
    },
    {
     "data": {
      "text/plain": [
       "2014-07-28    57389\n",
       "2014-10-03    54287\n",
       "2014-08-04    45746\n",
       "2013-10-14    40804\n",
       "2013-08-03    33414\n",
       "              ...  \n",
       "2011-11-27       11\n",
       "2015-05-31        9\n",
       "2014-05-01        7\n",
       "2010-07-04        4\n",
       "2009-12-25        4\n",
       "Name: fecha_alta, Length: 6756, dtype: int64"
      ]
     },
     "execution_count": 19,
     "metadata": {},
     "output_type": "execute_result"
    }
   ],
   "source": [
    "get_null_count('fecha_alta')\n",
    "print('-'*50)\n",
    "df.fecha_alta.value_counts()"
   ]
  },
  {
   "cell_type": "markdown",
   "metadata": {},
   "source": [
    "__Observation__:\n",
    "- There are various date, and not in any pattern.\n",
    "- NULL count is similar to others, ~0.2%"
   ]
  },
  {
   "cell_type": "code",
   "execution_count": 20,
   "metadata": {
    "scrolled": false
   },
   "outputs": [
    {
     "data": {
      "image/png": "[encoded data removed]",
      "text/plain": [
       "<Figure size 1440x360 with 1 Axes>"
      ]
     },
     "metadata": {
      "needs_background": "light"
     },
     "output_type": "display_data"
    },
    {
     "name": "stdout",
     "output_type": "stream",
     "text": [
      "--------------------------------------------------\n",
      "First 5 rows of Sorted dictionary:\n",
      "{'1995-01': 1299, '1995-02': 1106, '1995-03': 1705, '1995-04': 2171, '1995-05': 4231}\n",
      "\n",
      "Last  5 rows of Sorted dictionary:\n",
      "{'2016-02': 23533, '2016-03': 14434, '2016-04': 8602, '2016-05': 4383, 'nan': 27734}\n"
     ]
    }
   ],
   "source": [
    "# References:\n",
    "#-------------\n",
    "# - https://www.geeksforgeeks.org/python-get-first-n-keyvalue-pairs-in-given-dictionary/\n",
    "\n",
    "#----------------------------------------------------------#\n",
    "# Creating a new column 'fecha_alta_yymm' which will have  #\n",
    "# only year and month part of 'fecha_alta'.                #\n",
    "#                                                          #\n",
    "# We can check how many customers has started contract in  #\n",
    "# a particular month.                                      #\n",
    "#----------------------------------------------------------#\n",
    "\n",
    "df['fecha_alta_yymm'] = df.fecha_alta.astype('str').apply(lambda row: '-'.join(row.split('-')[0:2]))\n",
    "x = df.fecha_alta_yymm.value_counts().to_dict()\n",
    "x = dict(sorted(x.items()))\n",
    "\n",
    "plt.figure(figsize=(20,5))\n",
    "plt.bar(x.keys(),x.values(), label='count of rows')\n",
    "plt.legend()\n",
    "plt.xlabel(\"year-month -->\")\n",
    "plt.ylabel(\"count of rows\")\n",
    "plt.title(\"count of rows for each month \")\n",
    "plt.grid()\n",
    "plt.show()\n",
    "\n",
    "print('-'*50)\n",
    "print('First 5 rows of Sorted dictionary:')\n",
    "print(dict(list(x.items())[:5]))\n",
    "print('\\nLast  5 rows of Sorted dictionary:')\n",
    "print(dict(list(x.items())[-5:]))"
   ]
  },
  {
   "cell_type": "markdown",
   "metadata": {},
   "source": [
    "__Observation__:\n",
    "- Although year-month is not visible, but it is visible that number of contracts is roughly same for most of the time.\n",
    "- In the last part, there is huge jump in number of contracts per month, and that too in a periodical way.\n",
    "- Data from date Jan 1995 is present in dataset."
   ]
  },
  {
   "cell_type": "code",
   "execution_count": 21,
   "metadata": {},
   "outputs": [
    {
     "data": {
      "image/png": "[encoded data removed]",
      "text/plain": [
       "<Figure size 1440x360 with 1 Axes>"
      ]
     },
     "metadata": {
      "needs_background": "light"
     },
     "output_type": "display_data"
    }
   ],
   "source": [
    "#----------------------------------------------------------#\n",
    "# As we have data from Jan 2015 in 'fecha_dato', let us    #\n",
    "# zoom into details from Jan 2015 onwards.                 #\n",
    "#----------------------------------------------------------#\n",
    "\n",
    "#-preparing list:\n",
    "tmp_list = sorted(df.fecha_alta_yymm.unique())[-18:][:17]\n",
    "list_yymm = []\n",
    "list_count = []\n",
    "for yymm in tmp_list:\n",
    "    list_yymm.append(yymm)\n",
    "    list_count.append(df[df.fecha_alta_yymm == yymm].shape[0])\n",
    "    \n",
    "plt.figure(figsize=(20,5))\n",
    "plt.bar(list_yymm,list_count, label='count of rows')\n",
    "plt.legend()\n",
    "plt.xlabel(\"year-month -->\")\n",
    "plt.ylabel(\"count of rows\")\n",
    "plt.title(\"count of rows for each month \")\n",
    "plt.grid()\n",
    "plt.show()"
   ]
  },
  {
   "cell_type": "markdown",
   "metadata": {},
   "source": [
    "__Observation__:\n",
    "- For July, August, September and October we have highest count of new contracts, i.e new customers has been added."
   ]
  },
  {
   "cell_type": "markdown",
   "metadata": {},
   "source": [
    "#### for example:"
   ]
  },
  {
   "cell_type": "code",
   "execution_count": 22,
   "metadata": {},
   "outputs": [
    {
     "name": "stdout",
     "output_type": "stream",
     "text": [
      "          ncodpers  fecha_dato  fecha_alta\n",
      "0          1375586  2015-01-28  2015-01-12\n",
      "1047196    1375586  2015-02-28  2015-01-12\n",
      "1681276    1375586  2015-03-28  2015-01-12\n",
      "2299297    1375586  2015-04-28  2015-01-12\n",
      "2714121    1375586  2015-05-28  2015-01-12\n",
      "3343336    1375586  2015-06-28  2015-01-12\n",
      "4581564    1375586  2015-07-28  2015-01-12\n",
      "5075380    1375586  2015-08-28  2015-01-12\n",
      "6258167    1375586  2015-09-28  2015-01-12\n",
      "6572487    1375586  2015-10-28  2015-01-12\n",
      "7786119    1375586  2015-11-28  2015-01-12\n",
      "8958911    1375586  2015-12-28  2015-01-12\n",
      "9319634    1375586  2016-01-28  2015-01-12\n",
      "10165891   1375586  2016-02-28  2015-01-12\n",
      "11058687   1375586  2016-03-28  2015-01-12\n",
      "12532037   1375586  2016-04-28  2015-01-12\n",
      "13226584   1375586  2016-05-28  2015-01-12\n"
     ]
    }
   ],
   "source": [
    "# Randomly printing details for user with id: 1375586\n",
    "print(df[df.ncodpers == 1375586][['ncodpers','fecha_dato','fecha_alta']])"
   ]
  },
  {
   "cell_type": "code",
   "execution_count": 23,
   "metadata": {},
   "outputs": [
    {
     "data": {
      "text/html": [
       "<div>\n",
       "<style scoped>\n",
       "    .dataframe tbody tr th:only-of-type {\n",
       "        vertical-align: middle;\n",
       "    }\n",
       "\n",
       "    .dataframe tbody tr th {\n",
       "        vertical-align: top;\n",
       "    }\n",
       "\n",
       "    .dataframe thead th {\n",
       "        text-align: right;\n",
       "    }\n",
       "</style>\n",
       "<table border=\"1\" class=\"dataframe\">\n",
       "  <thead>\n",
       "    <tr style=\"text-align: right;\">\n",
       "      <th></th>\n",
       "      <th>fecha_dato</th>\n",
       "      <th>ncodpers</th>\n",
       "      <th>ind_empleado</th>\n",
       "      <th>pais_residencia</th>\n",
       "      <th>sexo</th>\n",
       "      <th>age</th>\n",
       "      <th>fecha_alta</th>\n",
       "      <th>ind_nuevo</th>\n",
       "      <th>antiguedad</th>\n",
       "      <th>indrel</th>\n",
       "      <th>...</th>\n",
       "      <th>ind_plan_fin_ult1</th>\n",
       "      <th>ind_pres_fin_ult1</th>\n",
       "      <th>ind_reca_fin_ult1</th>\n",
       "      <th>ind_tjcr_fin_ult1</th>\n",
       "      <th>ind_valo_fin_ult1</th>\n",
       "      <th>ind_viv_fin_ult1</th>\n",
       "      <th>ind_nomina_ult1</th>\n",
       "      <th>ind_nom_pens_ult1</th>\n",
       "      <th>ind_recibo_ult1</th>\n",
       "      <th>fecha_alta_yymm</th>\n",
       "    </tr>\n",
       "  </thead>\n",
       "  <tbody>\n",
       "    <tr>\n",
       "      <th>3781457</th>\n",
       "      <td>2015-07-28</td>\n",
       "      <td>631189</td>\n",
       "      <td>N</td>\n",
       "      <td>ES</td>\n",
       "      <td>V</td>\n",
       "      <td>42</td>\n",
       "      <td>2015-07-13</td>\n",
       "      <td>1.0</td>\n",
       "      <td>0</td>\n",
       "      <td>1.0</td>\n",
       "      <td>...</td>\n",
       "      <td>0</td>\n",
       "      <td>0</td>\n",
       "      <td>0</td>\n",
       "      <td>0</td>\n",
       "      <td>0</td>\n",
       "      <td>0</td>\n",
       "      <td>0.0</td>\n",
       "      <td>0.0</td>\n",
       "      <td>0</td>\n",
       "      <td>2015-07</td>\n",
       "    </tr>\n",
       "    <tr>\n",
       "      <th>3792759</th>\n",
       "      <td>2015-07-28</td>\n",
       "      <td>611844</td>\n",
       "      <td>N</td>\n",
       "      <td>ES</td>\n",
       "      <td>H</td>\n",
       "      <td>39</td>\n",
       "      <td>2015-07-15</td>\n",
       "      <td>1.0</td>\n",
       "      <td>0</td>\n",
       "      <td>99.0</td>\n",
       "      <td>...</td>\n",
       "      <td>0</td>\n",
       "      <td>0</td>\n",
       "      <td>0</td>\n",
       "      <td>0</td>\n",
       "      <td>0</td>\n",
       "      <td>0</td>\n",
       "      <td>0.0</td>\n",
       "      <td>0.0</td>\n",
       "      <td>0</td>\n",
       "      <td>2015-07</td>\n",
       "    </tr>\n",
       "    <tr>\n",
       "      <th>3793334</th>\n",
       "      <td>2015-07-28</td>\n",
       "      <td>610429</td>\n",
       "      <td>N</td>\n",
       "      <td>ES</td>\n",
       "      <td>V</td>\n",
       "      <td>55</td>\n",
       "      <td>2015-07-16</td>\n",
       "      <td>1.0</td>\n",
       "      <td>0</td>\n",
       "      <td>1.0</td>\n",
       "      <td>...</td>\n",
       "      <td>0</td>\n",
       "      <td>0</td>\n",
       "      <td>0</td>\n",
       "      <td>0</td>\n",
       "      <td>0</td>\n",
       "      <td>0</td>\n",
       "      <td>0.0</td>\n",
       "      <td>0.0</td>\n",
       "      <td>0</td>\n",
       "      <td>2015-07</td>\n",
       "    </tr>\n",
       "    <tr>\n",
       "      <th>3794936</th>\n",
       "      <td>2015-07-28</td>\n",
       "      <td>600794</td>\n",
       "      <td>N</td>\n",
       "      <td>ES</td>\n",
       "      <td>H</td>\n",
       "      <td>38</td>\n",
       "      <td>2015-07-16</td>\n",
       "      <td>1.0</td>\n",
       "      <td>0</td>\n",
       "      <td>1.0</td>\n",
       "      <td>...</td>\n",
       "      <td>0</td>\n",
       "      <td>0</td>\n",
       "      <td>0</td>\n",
       "      <td>0</td>\n",
       "      <td>0</td>\n",
       "      <td>0</td>\n",
       "      <td>0.0</td>\n",
       "      <td>0.0</td>\n",
       "      <td>0</td>\n",
       "      <td>2015-07</td>\n",
       "    </tr>\n",
       "    <tr>\n",
       "      <th>3821831</th>\n",
       "      <td>2015-07-28</td>\n",
       "      <td>672422</td>\n",
       "      <td>N</td>\n",
       "      <td>ES</td>\n",
       "      <td>V</td>\n",
       "      <td>32</td>\n",
       "      <td>2015-07-24</td>\n",
       "      <td>1.0</td>\n",
       "      <td>0</td>\n",
       "      <td>1.0</td>\n",
       "      <td>...</td>\n",
       "      <td>0</td>\n",
       "      <td>0</td>\n",
       "      <td>0</td>\n",
       "      <td>0</td>\n",
       "      <td>0</td>\n",
       "      <td>0</td>\n",
       "      <td>0.0</td>\n",
       "      <td>0.0</td>\n",
       "      <td>0</td>\n",
       "      <td>2015-07</td>\n",
       "    </tr>\n",
       "  </tbody>\n",
       "</table>\n",
       "<p>5 rows × 49 columns</p>\n",
       "</div>"
      ],
      "text/plain": [
       "         fecha_dato  ncodpers ind_empleado pais_residencia sexo  age  \\\n",
       "3781457  2015-07-28    631189            N              ES    V   42   \n",
       "3792759  2015-07-28    611844            N              ES    H   39   \n",
       "3793334  2015-07-28    610429            N              ES    V   55   \n",
       "3794936  2015-07-28    600794            N              ES    H   38   \n",
       "3821831  2015-07-28    672422            N              ES    V   32   \n",
       "\n",
       "         fecha_alta  ind_nuevo antiguedad  indrel  ... ind_plan_fin_ult1  \\\n",
       "3781457  2015-07-13        1.0          0     1.0  ...                 0   \n",
       "3792759  2015-07-15        1.0          0    99.0  ...                 0   \n",
       "3793334  2015-07-16        1.0          0     1.0  ...                 0   \n",
       "3794936  2015-07-16        1.0          0     1.0  ...                 0   \n",
       "3821831  2015-07-24        1.0          0     1.0  ...                 0   \n",
       "\n",
       "        ind_pres_fin_ult1 ind_reca_fin_ult1 ind_tjcr_fin_ult1  \\\n",
       "3781457                 0                 0                 0   \n",
       "3792759                 0                 0                 0   \n",
       "3793334                 0                 0                 0   \n",
       "3794936                 0                 0                 0   \n",
       "3821831                 0                 0                 0   \n",
       "\n",
       "        ind_valo_fin_ult1 ind_viv_fin_ult1 ind_nomina_ult1 ind_nom_pens_ult1  \\\n",
       "3781457                 0                0             0.0               0.0   \n",
       "3792759                 0                0             0.0               0.0   \n",
       "3793334                 0                0             0.0               0.0   \n",
       "3794936                 0                0             0.0               0.0   \n",
       "3821831                 0                0             0.0               0.0   \n",
       "\n",
       "         ind_recibo_ult1  fecha_alta_yymm  \n",
       "3781457                0          2015-07  \n",
       "3792759                0          2015-07  \n",
       "3793334                0          2015-07  \n",
       "3794936                0          2015-07  \n",
       "3821831                0          2015-07  \n",
       "\n",
       "[5 rows x 49 columns]"
      ]
     },
     "execution_count": 23,
     "metadata": {},
     "output_type": "execute_result"
    }
   ],
   "source": [
    "#Printing some records to select user who have started contract in July 2015.\n",
    "df[df.fecha_alta_yymm == '2015-07'].head(5)"
   ]
  },
  {
   "cell_type": "code",
   "execution_count": 24,
   "metadata": {
    "scrolled": true
   },
   "outputs": [
    {
     "data": {
      "text/html": [
       "<div>\n",
       "<style scoped>\n",
       "    .dataframe tbody tr th:only-of-type {\n",
       "        vertical-align: middle;\n",
       "    }\n",
       "\n",
       "    .dataframe tbody tr th {\n",
       "        vertical-align: top;\n",
       "    }\n",
       "\n",
       "    .dataframe thead th {\n",
       "        text-align: right;\n",
       "    }\n",
       "</style>\n",
       "<table border=\"1\" class=\"dataframe\">\n",
       "  <thead>\n",
       "    <tr style=\"text-align: right;\">\n",
       "      <th></th>\n",
       "      <th>ncodpers</th>\n",
       "      <th>fecha_dato</th>\n",
       "      <th>fecha_alta</th>\n",
       "    </tr>\n",
       "  </thead>\n",
       "  <tbody>\n",
       "    <tr>\n",
       "      <th>3821831</th>\n",
       "      <td>672422</td>\n",
       "      <td>2015-07-28</td>\n",
       "      <td>2015-07-24</td>\n",
       "    </tr>\n",
       "    <tr>\n",
       "      <th>4862118</th>\n",
       "      <td>672422</td>\n",
       "      <td>2015-08-28</td>\n",
       "      <td>2015-07-24</td>\n",
       "    </tr>\n",
       "    <tr>\n",
       "      <th>5959884</th>\n",
       "      <td>672422</td>\n",
       "      <td>2015-09-28</td>\n",
       "      <td>2015-07-24</td>\n",
       "    </tr>\n",
       "    <tr>\n",
       "      <th>7156779</th>\n",
       "      <td>672422</td>\n",
       "      <td>2015-10-28</td>\n",
       "      <td>2015-07-24</td>\n",
       "    </tr>\n",
       "    <tr>\n",
       "      <th>7347137</th>\n",
       "      <td>672422</td>\n",
       "      <td>2015-11-28</td>\n",
       "      <td>2015-07-24</td>\n",
       "    </tr>\n",
       "    <tr>\n",
       "      <th>8686441</th>\n",
       "      <td>672422</td>\n",
       "      <td>2015-12-28</td>\n",
       "      <td>2015-07-24</td>\n",
       "    </tr>\n",
       "    <tr>\n",
       "      <th>9682749</th>\n",
       "      <td>672422</td>\n",
       "      <td>2016-01-28</td>\n",
       "      <td>2015-07-24</td>\n",
       "    </tr>\n",
       "    <tr>\n",
       "      <th>10313734</th>\n",
       "      <td>672422</td>\n",
       "      <td>2016-02-28</td>\n",
       "      <td>2015-07-24</td>\n",
       "    </tr>\n",
       "    <tr>\n",
       "      <th>11500915</th>\n",
       "      <td>672422</td>\n",
       "      <td>2016-03-28</td>\n",
       "      <td>2015-07-24</td>\n",
       "    </tr>\n",
       "    <tr>\n",
       "      <th>11799943</th>\n",
       "      <td>672422</td>\n",
       "      <td>2016-04-28</td>\n",
       "      <td>2015-07-24</td>\n",
       "    </tr>\n",
       "    <tr>\n",
       "      <th>12724507</th>\n",
       "      <td>672422</td>\n",
       "      <td>2016-05-28</td>\n",
       "      <td>2015-07-24</td>\n",
       "    </tr>\n",
       "  </tbody>\n",
       "</table>\n",
       "</div>"
      ],
      "text/plain": [
       "          ncodpers  fecha_dato  fecha_alta\n",
       "3821831     672422  2015-07-28  2015-07-24\n",
       "4862118     672422  2015-08-28  2015-07-24\n",
       "5959884     672422  2015-09-28  2015-07-24\n",
       "7156779     672422  2015-10-28  2015-07-24\n",
       "7347137     672422  2015-11-28  2015-07-24\n",
       "8686441     672422  2015-12-28  2015-07-24\n",
       "9682749     672422  2016-01-28  2015-07-24\n",
       "10313734    672422  2016-02-28  2015-07-24\n",
       "11500915    672422  2016-03-28  2015-07-24\n",
       "11799943    672422  2016-04-28  2015-07-24\n",
       "12724507    672422  2016-05-28  2015-07-24"
      ]
     },
     "execution_count": 24,
     "metadata": {},
     "output_type": "execute_result"
    }
   ],
   "source": [
    "# Printing details for user with id: 672422. This user joined on July 2015.\n",
    "df[df.ncodpers == 672422][['ncodpers','fecha_dato','fecha_alta']]"
   ]
  },
  {
   "cell_type": "markdown",
   "metadata": {},
   "source": [
    "__Observation__:\n",
    "- From above three cells, we can see that contract date (i.e. _fecha_alta_) remains same throughout customers records.\n",
    "- It means we can consider _fecha_alta_ as date of opening the account by user in the bank.\n",
    "- Hence, count of rows in for particular yyyy-mm will give us count of nbewly added users (as shown above)."
   ]
  },
  {
   "cell_type": "markdown",
   "metadata": {},
   "source": [
    "## 3.8 For _ind_nuevo_ :\n",
    "(New customer Index. 1 if the customer registered in the last 6 months)"
   ]
  },
  {
   "cell_type": "code",
   "execution_count": 25,
   "metadata": {
    "scrolled": false
   },
   "outputs": [
    {
     "name": "stdout",
     "output_type": "stream",
     "text": [
      "Total count : 13647309\n",
      "Null  count : 27734\n",
      "Null  %     : 0.2032\n",
      "--------------------------------------------------\n"
     ]
    },
    {
     "data": {
      "text/plain": [
       "0.0    12808368\n",
       "1.0      811207\n",
       "Name: ind_nuevo, dtype: int64"
      ]
     },
     "execution_count": 25,
     "metadata": {},
     "output_type": "execute_result"
    }
   ],
   "source": [
    "get_null_count('ind_nuevo')\n",
    "print('-'*50)\n",
    "df.ind_nuevo.value_counts()"
   ]
  },
  {
   "cell_type": "markdown",
   "metadata": {},
   "source": [
    "#### Understanding with example:"
   ]
  },
  {
   "cell_type": "code",
   "execution_count": 26,
   "metadata": {},
   "outputs": [
    {
     "name": "stdout",
     "output_type": "stream",
     "text": [
      "          ncodpers  fecha_dato  fecha_alta  ind_nuevo\n",
      "0          1375586  2015-01-28  2015-01-12        0.0\n",
      "1047196    1375586  2015-02-28  2015-01-12        0.0\n",
      "1681276    1375586  2015-03-28  2015-01-12        0.0\n",
      "2299297    1375586  2015-04-28  2015-01-12        0.0\n",
      "2714121    1375586  2015-05-28  2015-01-12        0.0\n",
      "3343336    1375586  2015-06-28  2015-01-12        0.0\n",
      "4581564    1375586  2015-07-28  2015-01-12        0.0\n",
      "5075380    1375586  2015-08-28  2015-01-12        0.0\n",
      "6258167    1375586  2015-09-28  2015-01-12        0.0\n",
      "6572487    1375586  2015-10-28  2015-01-12        0.0\n",
      "7786119    1375586  2015-11-28  2015-01-12        0.0\n",
      "8958911    1375586  2015-12-28  2015-01-12        0.0\n",
      "9319634    1375586  2016-01-28  2015-01-12        0.0\n",
      "10165891   1375586  2016-02-28  2015-01-12        0.0\n",
      "11058687   1375586  2016-03-28  2015-01-12        0.0\n",
      "12532037   1375586  2016-04-28  2015-01-12        0.0\n",
      "13226584   1375586  2016-05-28  2015-01-12        0.0\n",
      "--------------------------------------------------\n",
      "          ncodpers  fecha_dato  fecha_alta  ind_nuevo\n",
      "3821831     672422  2015-07-28  2015-07-24        1.0\n",
      "4862118     672422  2015-08-28  2015-07-24        0.0\n",
      "5959884     672422  2015-09-28  2015-07-24        0.0\n",
      "7156779     672422  2015-10-28  2015-07-24        0.0\n",
      "7347137     672422  2015-11-28  2015-07-24        0.0\n",
      "8686441     672422  2015-12-28  2015-07-24        0.0\n",
      "9682749     672422  2016-01-28  2015-07-24        0.0\n",
      "10313734    672422  2016-02-28  2015-07-24        0.0\n",
      "11500915    672422  2016-03-28  2015-07-24        0.0\n",
      "11799943    672422  2016-04-28  2015-07-24        0.0\n",
      "12724507    672422  2016-05-28  2015-07-24        0.0\n",
      "--------------------------------------------------\n",
      "          ncodpers  fecha_dato  fecha_alta  ind_nuevo\n",
      "5883       1044472  2015-01-28  2012-08-06        1.0\n",
      "1219269    1044472  2015-02-28  2012-08-06        1.0\n",
      "1843233    1044472  2015-03-28  2012-08-06        1.0\n",
      "2481715    1044472  2015-04-28  2012-08-06        1.0\n",
      "2543579    1044472  2015-05-28  2012-08-06        1.0\n",
      "4378322    1044472  2015-07-28  2012-08-06        1.0\n",
      "5151650    1044472  2015-08-28  2012-08-06        1.0\n",
      "6068161    1044472  2015-09-28  2012-08-06        1.0\n",
      "6527557    1044472  2015-10-28  2012-08-06        1.0\n",
      "8108887    1044472  2015-11-28  2012-08-06        1.0\n",
      "8194024    1044472  2015-12-28  2012-08-06        1.0\n",
      "9933552    1044472  2016-01-28  2012-08-06        1.0\n",
      "10599027   1044472  2016-02-28  2012-08-06        0.0\n",
      "11762988   1044472  2016-03-28  2012-08-06        0.0\n"
     ]
    }
   ],
   "source": [
    "# Randomly printing details for some user.\n",
    "print(df[df.ncodpers == 1375586][['ncodpers','fecha_dato','fecha_alta','ind_nuevo']])\n",
    "print('-'*50)\n",
    "print(df[df.ncodpers == 672422][['ncodpers','fecha_dato','fecha_alta','ind_nuevo']])\n",
    "print('-'*50)\n",
    "print(df[df.ncodpers == 1044472][['ncodpers','fecha_dato','fecha_alta','ind_nuevo']])"
   ]
  },
  {
   "cell_type": "markdown",
   "metadata": {},
   "source": [
    "__Observation__:\n",
    "- User 1375586 joined in Jan 2015, however we have value of _ind_nuevo_ as 0 instead of 1.\n",
    "- User 672422  joined in Jul 2015, however we have value of _ind_nuevo_ as 1 only for one month.\n",
    "- User 1044472 joined in Aug 2012, however we still have value of _ind_nuevo_ as 1 in 2015.\n",
    "- From above, we can conclude that because of some reason, indicator _ind_nuevo_ is not indicating correct values.\n",
    "- Hence, either we recalculate this column for each row OR remove it from dataset.\n",
    "- NULL count is similar to others, ~0.2%"
   ]
  },
  {
   "cell_type": "markdown",
   "metadata": {},
   "source": [
    "## 3.9 For _antiguedad_ :\n",
    "(Customer seniority (in months))"
   ]
  },
  {
   "cell_type": "code",
   "execution_count": 27,
   "metadata": {
    "scrolled": false
   },
   "outputs": [
    {
     "name": "stdout",
     "output_type": "stream",
     "text": [
      "Total count : 13647309\n",
      "Null  count : 0\n",
      "Null  %     : 0.0\n",
      "--------------------------------------------------\n",
      "'antiguedad' dtype : object\n",
      "\n",
      "\n"
     ]
    },
    {
     "data": {
      "text/plain": [
       "0          134335\n",
       "1          130681\n",
       "12         130589\n",
       "3          125789\n",
       "2          125133\n",
       "            ...  \n",
       "255           179\n",
       "      0       149\n",
       "256           102\n",
       "-999999        26\n",
       "-999999        12\n",
       "Name: antiguedad, Length: 507, dtype: int64"
      ]
     },
     "execution_count": 27,
     "metadata": {},
     "output_type": "execute_result"
    }
   ],
   "source": [
    "get_null_count('antiguedad')\n",
    "print('-'*50)\n",
    "print('\\'antiguedad\\' dtype :',df.antiguedad.dtype)\n",
    "print('\\n')\n",
    "df.antiguedad.value_counts()"
   ]
  },
  {
   "cell_type": "markdown",
   "metadata": {},
   "source": [
    "__Observation__:\n",
    "- We can see that there is some string values (like 0 and ' 0'). Also, dtype for column is 'Object' instead of 'int'.\n",
    "- Customer seniority cannot be negative."
   ]
  },
  {
   "cell_type": "markdown",
   "metadata": {},
   "source": [
    "#### Understanding with example:"
   ]
  },
  {
   "cell_type": "code",
   "execution_count": 28,
   "metadata": {
    "scrolled": false
   },
   "outputs": [
    {
     "name": "stdout",
     "output_type": "stream",
     "text": [
      "          ncodpers  fecha_dato  fecha_alta antiguedad\n",
      "0          1375586  2015-01-28  2015-01-12          6\n",
      "1047196    1375586  2015-02-28  2015-01-12          6\n",
      "1681276    1375586  2015-03-28  2015-01-12          6\n",
      "2299297    1375586  2015-04-28  2015-01-12          6\n",
      "2714121    1375586  2015-05-28  2015-01-12          6\n",
      "3343336    1375586  2015-06-28  2015-01-12          6\n",
      "4581564    1375586  2015-07-28  2015-01-12          6\n",
      "5075380    1375586  2015-08-28  2015-01-12          7\n",
      "6258167    1375586  2015-09-28  2015-01-12          8\n",
      "6572487    1375586  2015-10-28  2015-01-12          9\n",
      "7786119    1375586  2015-11-28  2015-01-12         10\n",
      "8958911    1375586  2015-12-28  2015-01-12         11\n",
      "9319634    1375586  2016-01-28  2015-01-12         12\n",
      "10165891   1375586  2016-02-28  2015-01-12         13\n",
      "11058687   1375586  2016-03-28  2015-01-12         14\n",
      "12532037   1375586  2016-04-28  2015-01-12         15\n",
      "13226584   1375586  2016-05-28  2015-01-12         16\n",
      "--------------------------------------------------\n",
      "          ncodpers  fecha_dato  fecha_alta antiguedad\n",
      "3821831     672422  2015-07-28  2015-07-24          0\n",
      "4862118     672422  2015-08-28  2015-07-24         14\n",
      "5959884     672422  2015-09-28  2015-07-24         15\n",
      "7156779     672422  2015-10-28  2015-07-24         16\n",
      "7347137     672422  2015-11-28  2015-07-24         17\n",
      "8686441     672422  2015-12-28  2015-07-24         18\n",
      "9682749     672422  2016-01-28  2015-07-24         19\n",
      "10313734    672422  2016-02-28  2015-07-24         20\n",
      "11500915    672422  2016-03-28  2015-07-24         21\n",
      "11799943    672422  2016-04-28  2015-07-24         21\n",
      "12724507    672422  2016-05-28  2015-07-24         23\n",
      "--------------------------------------------------\n",
      "          ncodpers  fecha_dato  fecha_alta antiguedad\n",
      "5883       1044472  2015-01-28  2012-08-06          1\n",
      "1219269    1044472  2015-02-28  2012-08-06          1\n",
      "1843233    1044472  2015-03-28  2012-08-06          1\n",
      "2481715    1044472  2015-04-28  2012-08-06          1\n",
      "2543579    1044472  2015-05-28  2012-08-06          1\n",
      "4378322    1044472  2015-07-28  2012-08-06          1\n",
      "5151650    1044472  2015-08-28  2012-08-06          2\n",
      "6068161    1044472  2015-09-28  2012-08-06          1\n",
      "6527557    1044472  2015-10-28  2012-08-06          2\n",
      "8108887    1044472  2015-11-28  2012-08-06          3\n",
      "8194024    1044472  2015-12-28  2012-08-06          4\n",
      "9933552    1044472  2016-01-28  2012-08-06          5\n",
      "10599027   1044472  2016-02-28  2012-08-06          6\n",
      "11762988   1044472  2016-03-28  2012-08-06          7\n"
     ]
    }
   ],
   "source": [
    "# Randomly printing details for some user.\n",
    "print(df[df.ncodpers == 1375586][['ncodpers','fecha_dato','fecha_alta','antiguedad']])\n",
    "print('-'*50)\n",
    "print(df[df.ncodpers == 672422][['ncodpers','fecha_dato','fecha_alta','antiguedad']])\n",
    "print('-'*50)\n",
    "print(df[df.ncodpers == 1044472][['ncodpers','fecha_dato','fecha_alta','antiguedad']])"
   ]
  },
  {
   "cell_type": "markdown",
   "metadata": {},
   "source": [
    "__Observation__:\n",
    "- From above we can see that customer seniority is not correctly displayed.\n",
    "- Hence, we have to recalculate the column values as difference b/w _fecha_alta_ and _fecha_dato_ in months."
   ]
  },
  {
   "cell_type": "markdown",
   "metadata": {},
   "source": [
    "## 3.10 For _indrel_ :\n",
    "(1 (First/Primary), 99 (Primary customer during the month but not at the end of the month))"
   ]
  },
  {
   "cell_type": "code",
   "execution_count": 29,
   "metadata": {
    "scrolled": false
   },
   "outputs": [
    {
     "name": "stdout",
     "output_type": "stream",
     "text": [
      "Total count : 13647309\n",
      "Null  count : 27734\n",
      "Null  %     : 0.2032\n",
      "--------------------------------------------------\n",
      "Unique values count:\n",
      "{1.0: 13594782, 99.0: 24793}\n",
      "--------------------------------------------------\n",
      "% of 1: 99.818\n",
      "% of 99: 0.182\n"
     ]
    }
   ],
   "source": [
    "get_null_count('indrel')\n",
    "print('-'*50)\n",
    "df.indrel.value_counts()\n",
    "\n",
    "print('Unique values count:')\n",
    "dict_indrel = dict(df.indrel.value_counts())\n",
    "print(dict_indrel)\n",
    "print('-'*50)\n",
    "print('% of 1:',round(dict_indrel[1]/(dict_indrel[1.0]+dict_indrel[99.0])*100,4))\n",
    "print('% of 99:',round(dict_indrel[99.0]/(dict_indrel[1.0]+dict_indrel[99.0])*100,4))"
   ]
  },
  {
   "cell_type": "markdown",
   "metadata": {},
   "source": [
    "__Observation__:\n",
    "- Very less number of users are not Primary.\n",
    "- The column might not be very usefull as most of the rows are same.\n",
    "- NULL count is similar to others, ~0.2%"
   ]
  },
  {
   "cell_type": "markdown",
   "metadata": {},
   "source": [
    "## 3.11 For _ult_fec_cli_1t_ :\n",
    "(Last date as primary customer (if he isn't at the end of the month))"
   ]
  },
  {
   "cell_type": "code",
   "execution_count": 30,
   "metadata": {
    "scrolled": false
   },
   "outputs": [
    {
     "name": "stdout",
     "output_type": "stream",
     "text": [
      "Total count : 13647309\n",
      "Null  count : 13622516\n",
      "Null  %     : 99.8183\n",
      "--------------------------------------------------\n"
     ]
    },
    {
     "data": {
      "text/plain": [
       "2015-12-24    763\n",
       "2015-12-28    521\n",
       "2015-07-09    443\n",
       "2015-07-06    405\n",
       "2015-07-01    401\n",
       "             ... \n",
       "2015-08-19     44\n",
       "2016-04-28     44\n",
       "2015-08-06     41\n",
       "2016-01-04     34\n",
       "2015-12-23     27\n",
       "Name: ult_fec_cli_1t, Length: 223, dtype: int64"
      ]
     },
     "execution_count": 30,
     "metadata": {},
     "output_type": "execute_result"
    }
   ],
   "source": [
    "get_null_count('ult_fec_cli_1t')\n",
    "print('-'*50)\n",
    "df.ult_fec_cli_1t.value_counts()"
   ]
  },
  {
   "cell_type": "code",
   "execution_count": 125,
   "metadata": {},
   "outputs": [
    {
     "name": "stdout",
     "output_type": "stream",
     "text": [
      "Records having value: 24,793\n"
     ]
    }
   ],
   "source": [
    "v_tmp = df.ult_fec_cli_1t.value_counts().sum()\n",
    "print('Records having value:', f\"{v_tmp:,d}\")"
   ]
  },
  {
   "cell_type": "markdown",
   "metadata": {},
   "source": [
    "__Observation__:\n",
    "- Most of the values are empty in the column.\n",
    "- NULL count is ~99%.\n",
    "- Hence, this column can be ignored."
   ]
  },
  {
   "cell_type": "markdown",
   "metadata": {},
   "source": [
    "## 3.12 For _indrel_1mes_ :\n",
    "(Customer type at the beginning of the month ,1 (First/Primary customer), 2 (co-owner ),P (Potential),3 (former primary), 4(former co-owner))"
   ]
  },
  {
   "cell_type": "code",
   "execution_count": 31,
   "metadata": {
    "scrolled": false
   },
   "outputs": [
    {
     "name": "stdout",
     "output_type": "stream",
     "text": [
      "Total count : 13647309\n",
      "Null  count : 149781\n",
      "Null  %     : 1.0975\n",
      "--------------------------------------------------\n"
     ]
    },
    {
     "data": {
      "text/plain": [
       "1.0    7277607\n",
       "1.0    4017746\n",
       "1      2195328\n",
       "3.0       1804\n",
       "3.0       1409\n",
       "3         1137\n",
       "P          874\n",
       "2          483\n",
       "2.0        479\n",
       "2.0        355\n",
       "4.0        143\n",
       "4.0         93\n",
       "4           70\n",
       "Name: indrel_1mes, dtype: int64"
      ]
     },
     "execution_count": 31,
     "metadata": {},
     "output_type": "execute_result"
    }
   ],
   "source": [
    "get_null_count('indrel_1mes')\n",
    "print('-'*50)\n",
    "df.indrel_1mes.value_counts()"
   ]
  },
  {
   "cell_type": "code",
   "execution_count": 126,
   "metadata": {},
   "outputs": [
    {
     "name": "stdout",
     "output_type": "stream",
     "text": [
      "From above, % for 'indrel_1mes'=1 is:  99.94927219265631\n"
     ]
    }
   ],
   "source": [
    "print('From above, % for \\'indrel_1mes\\'=1 is: ',\\\n",
    "      (7277607+4017746+2195328)/(13647309-149781)*100)"
   ]
  },
  {
   "cell_type": "code",
   "execution_count": 129,
   "metadata": {},
   "outputs": [
    {
     "name": "stdout",
     "output_type": "stream",
     "text": [
      "Count of values for 'indrel_1mes' !=1 is: 6847\n"
     ]
    }
   ],
   "source": [
    "print('Count of values for \\'indrel_1mes\\' !=1 is:', 1804+1409+1137+874+483+479+355+143+93+70)"
   ]
  },
  {
   "cell_type": "markdown",
   "metadata": {},
   "source": [
    "__Observation__:\n",
    "- Most of the values in the column is 1, i.e. Primary, which is in sync with columns _indrel_.\n",
    "- NULL count is ~1%.\n",
    "- This column can be ignored."
   ]
  },
  {
   "cell_type": "markdown",
   "metadata": {},
   "source": [
    "## 3.13 For _tiprel_1mes_ :\n",
    "(Customer relation type at the beginning of the month, A (active), I (inactive), P (former customer),R (Potential))"
   ]
  },
  {
   "cell_type": "code",
   "execution_count": 33,
   "metadata": {
    "scrolled": true
   },
   "outputs": [
    {
     "name": "stdout",
     "output_type": "stream",
     "text": [
      "Total count : 13647309\n",
      "Null  count : 149781\n",
      "Null  %     : 1.0975\n",
      "--------------------------------------------------\n",
      "Unique values count:\n",
      "{'I': 7304875, 'A': 6187123, 'P': 4656, 'R': 870, 'N': 4}\n",
      "--------------------------------------------------\n",
      "% of I: 54.1201\n",
      "% of A: 45.8389\n"
     ]
    }
   ],
   "source": [
    "get_null_count('tiprel_1mes')\n",
    "print('-'*50)\n",
    "df.tiprel_1mes.value_counts()\n",
    "\n",
    "print('Unique values count:')\n",
    "dict_tiprel_1mes = dict(df.tiprel_1mes.value_counts())\n",
    "print(dict_tiprel_1mes)\n",
    "print('-'*50)\n",
    "print('% of I:',round(dict_tiprel_1mes['I']/(13647309-149781)*100,4))\n",
    "print('% of A:',round(dict_tiprel_1mes['A']/(13647309-149781)*100,4))"
   ]
  },
  {
   "cell_type": "markdown",
   "metadata": {},
   "source": [
    "__Observation__:\n",
    "- Very few rows have values other than Active and Inactive.\n",
    "- Almost same number of Active and Inactive rows.\n",
    "- NULL count is ~1%."
   ]
  },
  {
   "cell_type": "markdown",
   "metadata": {},
   "source": [
    "## 3.14 For _indresi_ :\n",
    "(Residence index (S (Yes) or N (No) if the residence country is the same than the bank country))"
   ]
  },
  {
   "cell_type": "code",
   "execution_count": 34,
   "metadata": {
    "scrolled": true
   },
   "outputs": [
    {
     "name": "stdout",
     "output_type": "stream",
     "text": [
      "Total count : 13647309\n",
      "Null  count : 27734\n",
      "Null  %     : 0.2032\n",
      "--------------------------------------------------\n",
      "Unique values count:\n",
      "{'S': 13553711, 'N': 65864}\n",
      "--------------------------------------------------\n",
      "% of S: 99.5164\n",
      "% of N: 0.4836\n"
     ]
    }
   ],
   "source": [
    "get_null_count('indresi')\n",
    "print('-'*50)\n",
    "df.indresi.value_counts()\n",
    "\n",
    "print('Unique values count:')\n",
    "dict_indresi = dict(df.indresi.value_counts())\n",
    "print(dict_indresi)\n",
    "print('-'*50)\n",
    "print('% of S:',round(dict_indresi['S']/(13647309-27734)*100,4))\n",
    "print('% of N:',round(dict_indresi['N']/(13647309-27734)*100,4))"
   ]
  },
  {
   "cell_type": "markdown",
   "metadata": {},
   "source": [
    "__Observation__:\n",
    "- Most of the values are S.\n",
    "- NULL count is ~0.2%."
   ]
  },
  {
   "cell_type": "markdown",
   "metadata": {},
   "source": [
    "## 3.15 For _indext_ :\n",
    "(Foreigner index (S (Yes) or N (No) if the customer's birth country is different than the bank country))"
   ]
  },
  {
   "cell_type": "code",
   "execution_count": 35,
   "metadata": {
    "scrolled": true
   },
   "outputs": [
    {
     "name": "stdout",
     "output_type": "stream",
     "text": [
      "Total count : 13647309\n",
      "Null  count : 27734\n",
      "Null  %     : 0.2032\n",
      "--------------------------------------------------\n",
      "Unique values count:\n",
      "{'N': 12974839, 'S': 644736}\n",
      "--------------------------------------------------\n",
      "% of N: 95.2661\n",
      "% of S: 4.7339\n"
     ]
    }
   ],
   "source": [
    "get_null_count('indext')\n",
    "print('-'*50)\n",
    "df.indext.value_counts()\n",
    "\n",
    "print('Unique values count:')\n",
    "dict_indext = dict(df.indext.value_counts())\n",
    "print(dict_indext)\n",
    "print('-'*50)\n",
    "print('% of N:',round(dict_indext['N']/(13647309-27734)*100,4))\n",
    "print('% of S:',round(dict_indext['S']/(13647309-27734)*100,4))"
   ]
  },
  {
   "cell_type": "markdown",
   "metadata": {},
   "source": [
    "__Observation__:\n",
    "- Most of the values are N, i.e. most of the customer have same birth country.\n",
    "- Small % of rows are S, i.e. the bank has only few international customers.\n",
    "- NULL count is ~0.2%."
   ]
  },
  {
   "cell_type": "markdown",
   "metadata": {},
   "source": [
    "## 3.16 For _conyuemp_ :\n",
    "(Spouse index. 1 if the customer is spouse of an employee)"
   ]
  },
  {
   "cell_type": "code",
   "execution_count": 36,
   "metadata": {
    "scrolled": true
   },
   "outputs": [
    {
     "name": "stdout",
     "output_type": "stream",
     "text": [
      "Total count : 13647309\n",
      "Null  count : 13645501\n",
      "Null  %     : 99.9868\n",
      "--------------------------------------------------\n"
     ]
    },
    {
     "data": {
      "text/plain": [
       "N    1791\n",
       "S      17\n",
       "Name: conyuemp, dtype: int64"
      ]
     },
     "execution_count": 36,
     "metadata": {},
     "output_type": "execute_result"
    }
   ],
   "source": [
    "get_null_count('conyuemp')\n",
    "print('-'*50)\n",
    "df.conyuemp.value_counts()"
   ]
  },
  {
   "cell_type": "markdown",
   "metadata": {},
   "source": [
    "__Observation__:\n",
    "- Almost 99.99% values are not available.\n",
    "- Hence, we can ignore these columns."
   ]
  },
  {
   "cell_type": "markdown",
   "metadata": {},
   "source": [
    "## 3.17 For _canal_entrada_ :\n",
    "(channel used by the customer to join)"
   ]
  },
  {
   "cell_type": "code",
   "execution_count": 37,
   "metadata": {
    "scrolled": false
   },
   "outputs": [
    {
     "name": "stdout",
     "output_type": "stream",
     "text": [
      "Total count : 13647309\n",
      "Null  count : 186126\n",
      "Null  %     : 1.3638\n",
      "--------------------------------------------------\n"
     ]
    },
    {
     "data": {
      "text/plain": [
       "KHE    4055270\n",
       "KAT    3268209\n",
       "KFC    3098360\n",
       "KHQ     591039\n",
       "KFA     409669\n",
       "        ...   \n",
       "KGN         17\n",
       "KDL         11\n",
       "025         11\n",
       "KHS          5\n",
       "KHR          1\n",
       "Name: canal_entrada, Length: 162, dtype: int64"
      ]
     },
     "execution_count": 37,
     "metadata": {},
     "output_type": "execute_result"
    }
   ],
   "source": [
    "get_null_count('canal_entrada')\n",
    "print('-'*50)\n",
    "df.canal_entrada.value_counts()"
   ]
  },
  {
   "cell_type": "code",
   "execution_count": 38,
   "metadata": {},
   "outputs": [
    {
     "name": "stdout",
     "output_type": "stream",
     "text": [
      "\n",
      "From above, combined % for KHE, KAT and KFC is:  77.42141979646216\n"
     ]
    }
   ],
   "source": [
    "print('\\nFrom above, combined % for KHE, KAT and KFC is: ',\\\n",
    "      (4055270+3268209+3098360)/(13647309-186126)*100)"
   ]
  },
  {
   "cell_type": "markdown",
   "metadata": {},
   "source": [
    "__Observation__:\n",
    "- Channel KHE, KAT and KFC are most popular ones.\n",
    "- NULL count is ~1.3%."
   ]
  },
  {
   "cell_type": "markdown",
   "metadata": {},
   "source": [
    "## 3.18 For _indfall_ :\n",
    "(Deceased index. N/S)"
   ]
  },
  {
   "cell_type": "code",
   "execution_count": 39,
   "metadata": {
    "scrolled": true
   },
   "outputs": [
    {
     "name": "stdout",
     "output_type": "stream",
     "text": [
      "Total count : 13647309\n",
      "Null  count : 27734\n",
      "Null  %     : 0.2032\n",
      "--------------------------------------------------\n",
      "Unique values count:\n",
      "{'N': 13584813, 'S': 34762}\n",
      "--------------------------------------------------\n",
      "% of N: 99.7448\n",
      "% of S: 0.2552\n"
     ]
    }
   ],
   "source": [
    "get_null_count('indfall')\n",
    "print('-'*50)\n",
    "df.indfall.value_counts()\n",
    "\n",
    "print('Unique values count:')\n",
    "dict_indfall = dict(df.indfall.value_counts())\n",
    "print(dict_indfall)\n",
    "print('-'*50)\n",
    "print('% of N:',round(dict_indfall['N']/(13647309-27734)*100,4))\n",
    "print('% of S:',round(dict_indfall['S']/(13647309-27734)*100,4))"
   ]
  },
  {
   "cell_type": "markdown",
   "metadata": {},
   "source": [
    "__Observation__:\n",
    "- More than 99% customers are alive.\n",
    "- NULL count is ~0.2%."
   ]
  },
  {
   "cell_type": "markdown",
   "metadata": {},
   "source": [
    "## 3.19 For _tipodom_ :\n",
    "(Addres type. 1, primary address)"
   ]
  },
  {
   "cell_type": "code",
   "execution_count": 40,
   "metadata": {
    "scrolled": true
   },
   "outputs": [
    {
     "name": "stdout",
     "output_type": "stream",
     "text": [
      "Total count : 13647309\n",
      "Null  count : 27735\n",
      "Null  %     : 0.2032\n",
      "--------------------------------------------------\n"
     ]
    },
    {
     "data": {
      "text/plain": [
       "1.0    13619574\n",
       "Name: tipodom, dtype: int64"
      ]
     },
     "execution_count": 40,
     "metadata": {},
     "output_type": "execute_result"
    }
   ],
   "source": [
    "get_null_count('tipodom')\n",
    "print('-'*50)\n",
    "df.tipodom.value_counts()"
   ]
  },
  {
   "cell_type": "markdown",
   "metadata": {},
   "source": [
    "__Observation__:\n",
    "- All the rows have value as 1, i.e. address provided is primary address of the user.\n",
    "- Hence, this column can be removed.\n",
    "- NULL count is ~0.2%."
   ]
  },
  {
   "cell_type": "markdown",
   "metadata": {},
   "source": [
    "## 3.20 For _cod_prov_ :\n",
    "(Province code (customer's address))"
   ]
  },
  {
   "cell_type": "code",
   "execution_count": 41,
   "metadata": {
    "scrolled": true
   },
   "outputs": [
    {
     "name": "stdout",
     "output_type": "stream",
     "text": [
      "Total count : 13647309\n",
      "Null  count : 93591\n",
      "Null  %     : 0.6858\n",
      "--------------------------------------------------\n",
      "Unique values count:\n",
      "{28.0: 4409600, 8.0: 1275219, 46.0: 682304, 41.0: 605164, 15.0: 429322, 30.0: 396759, 29.0: 367023, 50.0: 342543, 3.0: 313397, 11.0: 294684, 36.0: 280026, 33.0: 265749, 47.0: 238259, 35.0: 235700, 6.0: 192996, 48.0: 185888, 45.0: 183067, 18.0: 178562, 37.0: 164238, 39.0: 155706, 14.0: 144679, 10.0: 129912, 7.0: 124933, 21.0: 122283, 13.0: 119390, 2.0: 114128, 12.0: 104295, 43.0: 100115, 9.0: 97188, 17.0: 90538, 31.0: 88618, 26.0: 85202, 27.0: 84962, 32.0: 84009, 24.0: 83003, 25.0: 79059, 20.0: 71567, 38.0: 70968, 19.0: 64618, 23.0: 64363, 4.0: 60291, 16.0: 57310, 49.0: 50927, 34.0: 49282, 40.0: 42341, 22.0: 40181, 5.0: 38783, 1.0: 37704, 44.0: 22525, 42.0: 17660, 52.0: 9460, 51.0: 7218}\n",
      "--------------------------------------------------\n",
      "% of 28: 32.5342\n",
      "% of 8: 9.4086\n"
     ]
    }
   ],
   "source": [
    "get_null_count('cod_prov')\n",
    "print('-'*50)\n",
    "df.cod_prov.value_counts()\n",
    "\n",
    "print('Unique values count:')\n",
    "dict_cod_prov = dict(df.cod_prov.value_counts())\n",
    "print(dict_cod_prov)\n",
    "print('-'*50)\n",
    "print('% of 28:',round(dict_cod_prov[28]/(13647309-93591)*100,4))\n",
    "print('% of 8:',round(dict_cod_prov[8]/(13647309-93591)*100,4))"
   ]
  },
  {
   "cell_type": "markdown",
   "metadata": {},
   "source": [
    "__Observation__:\n",
    "- Most of the users are from province 28.\n",
    "- NULL count is ~0.6%."
   ]
  },
  {
   "cell_type": "markdown",
   "metadata": {},
   "source": [
    "## 3.21 For _nomprov_ :\n",
    "(Province name)"
   ]
  },
  {
   "cell_type": "code",
   "execution_count": 42,
   "metadata": {
    "scrolled": true
   },
   "outputs": [
    {
     "name": "stdout",
     "output_type": "stream",
     "text": [
      "Total count : 13647309\n",
      "Null  count : 93591\n",
      "Null  %     : 0.6858\n",
      "--------------------------------------------------\n",
      "{'MADRID': 4409600, 'BARCELONA': 1275219, 'VALENCIA': 682304, 'SEVILLA': 605164, 'CORUÑA, A': 429322, 'MURCIA': 396759, 'MALAGA': 367023, 'ZARAGOZA': 342543, 'ALICANTE': 313397, 'CADIZ': 294684, 'PONTEVEDRA': 280026, 'ASTURIAS': 265749, 'VALLADOLID': 238259, 'PALMAS, LAS': 235700, 'BADAJOZ': 192996, 'BIZKAIA': 185888, 'TOLEDO': 183067, 'GRANADA': 178562, 'SALAMANCA': 164238, 'CANTABRIA': 155706, 'CORDOBA': 144679, 'CACERES': 129912, 'BALEARS, ILLES': 124933, 'HUELVA': 122283, 'CIUDAD REAL': 119390, 'ALBACETE': 114128, 'CASTELLON': 104295, 'TARRAGONA': 100115, 'BURGOS': 97188, 'GIRONA': 90538, 'NAVARRA': 88618, 'RIOJA, LA': 85202, 'LUGO': 84962, 'OURENSE': 84009, 'LEON': 83003, 'LERIDA': 79059, 'GIPUZKOA': 71567, 'SANTA CRUZ DE TENERIFE': 70968, 'GUADALAJARA': 64618, 'JAEN': 64363, 'ALMERIA': 60291, 'CUENCA': 57310, 'ZAMORA': 50927, 'PALENCIA': 49282, 'SEGOVIA': 42341, 'HUESCA': 40181, 'AVILA': 38783, 'ALAVA': 37704, 'TERUEL': 22525, 'SORIA': 17660, 'MELILLA': 9460, 'CEUTA': 7218}\n"
     ]
    }
   ],
   "source": [
    "get_null_count('nomprov')\n",
    "print('-'*50)\n",
    "print(df.nomprov.value_counts().to_dict())"
   ]
  },
  {
   "cell_type": "markdown",
   "metadata": {},
   "source": [
    "__Observation__:\n",
    "- So Madrid is province 28.\n",
    "- As this is dependent feature on _cod_prov_, we can keep opne from the two.\n",
    "- NULL count is ~0.6%."
   ]
  },
  {
   "cell_type": "markdown",
   "metadata": {},
   "source": [
    "## 3.22 For _ind_actividad_cliente_ :\n",
    "(Activity index (1, active customer; 0, inactive customer))"
   ]
  },
  {
   "cell_type": "code",
   "execution_count": 43,
   "metadata": {
    "scrolled": true
   },
   "outputs": [
    {
     "name": "stdout",
     "output_type": "stream",
     "text": [
      "Total count : 13647309\n",
      "Null  count : 27734\n",
      "Null  %     : 0.2032\n",
      "--------------------------------------------------\n"
     ]
    },
    {
     "data": {
      "text/plain": [
       "0.0    7384390\n",
       "1.0    6235185\n",
       "Name: ind_actividad_cliente, dtype: int64"
      ]
     },
     "execution_count": 43,
     "metadata": {},
     "output_type": "execute_result"
    }
   ],
   "source": [
    "get_null_count('ind_actividad_cliente')\n",
    "print('-'*50)\n",
    "df.ind_actividad_cliente.value_counts()"
   ]
  },
  {
   "cell_type": "markdown",
   "metadata": {},
   "source": [
    "__Observation__:\n",
    "- Almost similar count for both classes.\n",
    "- NULL count is ~0.2%."
   ]
  },
  {
   "cell_type": "markdown",
   "metadata": {},
   "source": [
    "## 3.23 For _renta_ :\n",
    "(Gross income of the household)"
   ]
  },
  {
   "cell_type": "code",
   "execution_count": 44,
   "metadata": {
    "scrolled": false
   },
   "outputs": [
    {
     "name": "stdout",
     "output_type": "stream",
     "text": [
      "Total count : 13647309\n",
      "Null  count : 2794375\n",
      "Null  %     : 20.4756\n",
      "--------------------------------------------------\n"
     ]
    },
    {
     "data": {
      "text/plain": [
       "count    1.085293e+07\n",
       "mean     1.342543e+05\n",
       "std      2.306202e+05\n",
       "min      1.202730e+03\n",
       "25%      6.871098e+04\n",
       "50%      1.018500e+05\n",
       "75%      1.559560e+05\n",
       "max      2.889440e+07\n",
       "Name: renta, dtype: float64"
      ]
     },
     "execution_count": 44,
     "metadata": {},
     "output_type": "execute_result"
    }
   ],
   "source": [
    "get_null_count('renta')\n",
    "print('-'*50)\n",
    "df.renta.describe()"
   ]
  },
  {
   "cell_type": "code",
   "execution_count": 66,
   "metadata": {},
   "outputs": [
    {
     "name": "stdout",
     "output_type": "stream",
     "text": [
      "Percentile  10  is: 49,068\n",
      "Percentile  20  is: 62,564\n",
      "Percentile  30  is: 74,702\n",
      "Percentile  40  is: 87,430\n",
      "Percentile  50  is: 101,850\n",
      "Percentile  60  is: 119,060\n",
      "Percentile  70  is: 141,336\n",
      "Percentile  80  is: 174,475\n",
      "Percentile  90  is: 234,738\n",
      "--------------------------------------------------\n",
      "Percentile  91  is: 244,804\n",
      "Percentile  92  is: 256,433\n",
      "Percentile  93  is: 271,089\n",
      "Percentile  94  is: 288,364\n",
      "Percentile  95  is: 309,997\n",
      "Percentile  96  is: 337,117\n",
      "Percentile  97  is: 376,292\n",
      "Percentile  98  is: 434,200\n",
      "Percentile  99  is: 554,795\n",
      "--------------------------------------------------\n",
      "Max    : 28,894,395.51\n",
      "Median : 101,850.00\n",
      "--------------------------------------------------\n"
     ]
    },
    {
     "data": {
      "image/png": "[encoded data removed]",
      "text/plain": [
       "<Figure size 1440x360 with 1 Axes>"
      ]
     },
     "metadata": {
      "needs_background": "light"
     },
     "output_type": "display_data"
    },
    {
     "name": "stdout",
     "output_type": "stream",
     "text": [
      "--------------------------------------------------\n"
     ]
    },
    {
     "data": {
      "image/png": "[encoded data removed]",
      "text/plain": [
       "<Figure size 1440x360 with 1 Axes>"
      ]
     },
     "metadata": {
      "needs_background": "light"
     },
     "output_type": "display_data"
    }
   ],
   "source": [
    "tmp_list = df[df.renta.notnull()].renta.to_numpy()\n",
    "\n",
    "for i in range(10,100,10):\n",
    "    v_percentile = round(np.percentile(tmp_list,i))\n",
    "    print('Percentile ',i,' is:',f\"{v_percentile:,d}\")\n",
    "\n",
    "print('-'*50)\n",
    "for i in range(91,100,1):\n",
    "    v_percentile = round(np.percentile(tmp_list,i))\n",
    "    print('Percentile ',i,' is:',f\"{v_percentile:,d}\")\n",
    "\n",
    "print('-'*50)\n",
    "print('Max    :',f\"{df.renta.max():,.2f}\")\n",
    "print('Median :',f\"{df.renta.median():,.2f}\")\n",
    "\n",
    "print('-'*50)\n",
    "plt.figure(figsize=(20,5))\n",
    "plt.boxplot(tmp_list)\n",
    "# plt.legend()\n",
    "plt.xlabel(\"renta\")\n",
    "plt.ylabel(\"amount -->\")\n",
    "plt.title(\"Box plot for renta \")\n",
    "plt.grid()\n",
    "plt.show()\n",
    "\n",
    "print('-'*50)\n",
    "plt.figure(figsize=(20,5))\n",
    "sns.kdeplot(tmp_list,label=\"density plot for rent\", bw_method=0.6)\n",
    "plt.legend()\n",
    "plt.show()"
   ]
  },
  {
   "cell_type": "markdown",
   "metadata": {},
   "source": [
    "__Observation__:\n",
    "- From box plot we see that there are many ouliers.\n",
    "- 99 pecentile amount is ~555K, median is ~101K, whereas max amount is at ~28,894K.\n",
    "- NULL count is ~20%, which is high."
   ]
  },
  {
   "cell_type": "markdown",
   "metadata": {},
   "source": [
    "## 3.24 For _segmento_ :\n",
    "(segmentation: 01 - VIP, 02 - Individuals 03 - college graduated)"
   ]
  },
  {
   "cell_type": "code",
   "execution_count": 73,
   "metadata": {
    "scrolled": true
   },
   "outputs": [
    {
     "name": "stdout",
     "output_type": "stream",
     "text": [
      "Total count : 13647309\n",
      "Null  count : 189,368\n",
      "Null  %     : 1.3876\n",
      "--------------------------------------------------\n",
      "Unique values count:\n",
      "{'02 - PARTICULARES': 7960220, '03 - UNIVERSITARIO': 4935579, '01 - TOP': 562142}\n",
      "--------------------------------------------------\n",
      "% of 02: 59.1489\n",
      "% of 03: 36.6741\n"
     ]
    }
   ],
   "source": [
    "get_null_count('segmento')\n",
    "print('-'*50)\n",
    "df.segmento.value_counts()\n",
    "\n",
    "print('Unique values count:')\n",
    "dict_segmento = dict(df.segmento.value_counts())\n",
    "print(dict_segmento)\n",
    "print('-'*50)\n",
    "print('% of 02:',round(dict_segmento['02 - PARTICULARES']/(13647309-189368)*100,4))\n",
    "print('% of 03:',round(dict_segmento['03 - UNIVERSITARIO']/(13647309-189368)*100,4))"
   ]
  },
  {
   "cell_type": "markdown",
   "metadata": {},
   "source": [
    "__Observation__:\n",
    "- Around 60% users are _individuals_, followed by 36% of _college graduates_.\n",
    "- NULL count is ~1%."
   ]
  },
  {
   "cell_type": "markdown",
   "metadata": {},
   "source": [
    "## 3.25 For all product indicators :"
   ]
  },
  {
   "cell_type": "code",
   "execution_count": 121,
   "metadata": {
    "scrolled": true
   },
   "outputs": [
    {
     "name": "stdout",
     "output_type": "stream",
     "text": [
      "For col ' ind_ahor_fin_ult1 ':\n",
      "\n",
      "Total count : 13647309\n",
      "Null  count : 0\n",
      "Null  %     : 0.0\n",
      "Unique values count:\n",
      "{0: 13645913, 1: 1396}\n",
      "% of 0: 99.9898  ;  % of 1: 0.0102\n",
      "--------------------------------------------------\n",
      "For col ' ind_aval_fin_ult1 ':\n",
      "\n",
      "Total count : 13647309\n",
      "Null  count : 0\n",
      "Null  %     : 0.0\n",
      "Unique values count:\n",
      "{0: 13646993, 1: 316}\n",
      "% of 0: 99.9977  ;  % of 1: 0.0023\n",
      "--------------------------------------------------\n",
      "For col ' ind_cco_fin_ult1 ':\n",
      "\n",
      "Total count : 13647309\n",
      "Null  count : 0\n",
      "Null  %     : 0.0\n",
      "Unique values count:\n",
      "{1: 8945588, 0: 4701721}\n",
      "% of 0: 34.4516  ;  % of 1: 65.5484\n",
      "--------------------------------------------------\n",
      "For col ' ind_cder_fin_ult1 ':\n",
      "\n",
      "Total count : 13647309\n",
      "Null  count : 0\n",
      "Null  %     : 0.0\n",
      "Unique values count:\n",
      "{0: 13641933, 1: 5376}\n",
      "% of 0: 99.9606  ;  % of 1: 0.0394\n",
      "--------------------------------------------------\n",
      "For col ' ind_cno_fin_ult1 ':\n",
      "\n",
      "Total count : 13647309\n",
      "Null  count : 0\n",
      "Null  %     : 0.0\n",
      "Unique values count:\n",
      "{0: 12543689, 1: 1103620}\n",
      "% of 0: 91.9133  ;  % of 1: 8.0867\n",
      "--------------------------------------------------\n",
      "For col ' ind_ctju_fin_ult1 ':\n",
      "\n",
      "Total count : 13647309\n",
      "Null  count : 0\n",
      "Null  %     : 0.0\n",
      "Unique values count:\n",
      "{0: 13518012, 1: 129297}\n",
      "% of 0: 99.0526  ;  % of 1: 0.9474\n",
      "--------------------------------------------------\n",
      "For col ' ind_ctma_fin_ult1 ':\n",
      "\n",
      "Total count : 13647309\n",
      "Null  count : 0\n",
      "Null  %     : 0.0\n",
      "Unique values count:\n",
      "{0: 13514567, 1: 132742}\n",
      "% of 0: 99.0273  ;  % of 1: 0.9727\n",
      "--------------------------------------------------\n",
      "For col ' ind_ctop_fin_ult1 ':\n",
      "\n",
      "Total count : 13647309\n",
      "Null  count : 0\n",
      "Null  %     : 0.0\n",
      "Unique values count:\n",
      "{0: 11886693, 1: 1760616}\n",
      "% of 0: 87.0992  ;  % of 1: 12.9008\n",
      "--------------------------------------------------\n",
      "For col ' ind_ctpp_fin_ult1 ':\n",
      "\n",
      "Total count : 13647309\n",
      "Null  count : 0\n",
      "Null  %     : 0.0\n",
      "Unique values count:\n",
      "{0: 13056301, 1: 591008}\n",
      "% of 0: 95.6694  ;  % of 1: 4.3306\n",
      "--------------------------------------------------\n",
      "For col ' ind_deco_fin_ult1 ':\n",
      "\n",
      "Total count : 13647309\n",
      "Null  count : 0\n",
      "Null  %     : 0.0\n",
      "Unique values count:\n",
      "{0: 13623034, 1: 24275}\n",
      "% of 0: 99.8221  ;  % of 1: 0.1779\n",
      "--------------------------------------------------\n",
      "For col ' ind_deme_fin_ult1 ':\n",
      "\n",
      "Total count : 13647309\n",
      "Null  count : 0\n",
      "Null  %     : 0.0\n",
      "Unique values count:\n",
      "{0: 13624641, 1: 22668}\n",
      "% of 0: 99.8339  ;  % of 1: 0.1661\n",
      "--------------------------------------------------\n",
      "For col ' ind_dela_fin_ult1 ':\n",
      "\n",
      "Total count : 13647309\n",
      "Null  count : 0\n",
      "Null  %     : 0.0\n",
      "Unique values count:\n",
      "{0: 13060928, 1: 586381}\n",
      "% of 0: 95.7033  ;  % of 1: 4.2967\n",
      "--------------------------------------------------\n",
      "For col ' ind_ecue_fin_ult1 ':\n",
      "\n",
      "Total count : 13647309\n",
      "Null  count : 0\n",
      "Null  %     : 0.0\n",
      "Unique values count:\n",
      "{0: 12518082, 1: 1129227}\n",
      "% of 0: 91.7256  ;  % of 1: 8.2744\n",
      "--------------------------------------------------\n",
      "For col ' ind_fond_fin_ult1 ':\n",
      "\n",
      "Total count : 13647309\n",
      "Null  count : 0\n",
      "Null  %     : 0.0\n",
      "Unique values count:\n",
      "{0: 13395025, 1: 252284}\n",
      "% of 0: 98.1514  ;  % of 1: 1.8486\n",
      "--------------------------------------------------\n",
      "For col ' ind_hip_fin_ult1 ':\n",
      "\n",
      "Total count : 13647309\n",
      "Null  count : 0\n",
      "Null  %     : 0.0\n",
      "Unique values count:\n",
      "{0: 13566973, 1: 80336}\n",
      "% of 0: 99.4113  ;  % of 1: 0.5887\n",
      "--------------------------------------------------\n",
      "For col ' ind_plan_fin_ult1 ':\n",
      "\n",
      "Total count : 13647309\n",
      "Null  count : 0\n",
      "Null  %     : 0.0\n",
      "Unique values count:\n",
      "{0: 13522150, 1: 125159}\n",
      "% of 0: 99.0829  ;  % of 1: 0.9171\n",
      "--------------------------------------------------\n",
      "For col ' ind_pres_fin_ult1 ':\n",
      "\n",
      "Total count : 13647309\n",
      "Null  count : 0\n",
      "Null  %     : 0.0\n",
      "Unique values count:\n",
      "{0: 13611452, 1: 35857}\n",
      "% of 0: 99.7373  ;  % of 1: 0.2627\n",
      "--------------------------------------------------\n",
      "For col ' ind_reca_fin_ult1 ':\n",
      "\n",
      "Total count : 13647309\n",
      "Null  count : 0\n",
      "Null  %     : 0.0\n",
      "Unique values count:\n",
      "{0: 12930329, 1: 716980}\n",
      "% of 0: 94.7464  ;  % of 1: 5.2536\n",
      "--------------------------------------------------\n",
      "For col ' ind_tjcr_fin_ult1 ':\n",
      "\n",
      "Total count : 13647309\n",
      "Null  count : 0\n",
      "Null  %     : 0.0\n",
      "Unique values count:\n",
      "{0: 13041523, 1: 605786}\n",
      "% of 0: 95.5611  ;  % of 1: 4.4389\n",
      "--------------------------------------------------\n",
      "For col ' ind_valo_fin_ult1 ':\n",
      "\n",
      "Total count : 13647309\n",
      "Null  count : 0\n",
      "Null  %     : 0.0\n",
      "Unique values count:\n",
      "{0: 13297834, 1: 349475}\n",
      "% of 0: 97.4392  ;  % of 1: 2.5608\n",
      "--------------------------------------------------\n",
      "For col ' ind_viv_fin_ult1 ':\n",
      "\n",
      "Total count : 13647309\n",
      "Null  count : 0\n",
      "Null  %     : 0.0\n",
      "Unique values count:\n",
      "{0: 13594798, 1: 52511}\n",
      "% of 0: 99.6152  ;  % of 1: 0.3848\n",
      "--------------------------------------------------\n",
      "For col ' ind_nomina_ult1 ':\n",
      "\n",
      "Total count : 13647309\n",
      "Null  count : 16,063\n",
      "Null  %     : 0.1177\n",
      "Unique values count:\n",
      "{0.0: 12885285, 1.0: 745961}\n",
      "% of 0: 94.5276  ;  % of 1: 5.4724\n",
      "--------------------------------------------------\n",
      "For col ' ind_nom_pens_ult1 ':\n",
      "\n",
      "Total count : 13647309\n",
      "Null  count : 16,063\n",
      "Null  %     : 0.1177\n",
      "Unique values count:\n",
      "{0.0: 12821161, 1.0: 810085}\n",
      "% of 0: 94.0571  ;  % of 1: 5.9429\n",
      "--------------------------------------------------\n",
      "For col ' ind_recibo_ult1 ':\n",
      "\n",
      "Total count : 13647309\n",
      "Null  count : 0\n",
      "Null  %     : 0.0\n",
      "Unique values count:\n",
      "{0: 11901597, 1: 1745712}\n",
      "% of 0: 87.2084  ;  % of 1: 12.7916\n",
      "--------------------------------------------------\n"
     ]
    }
   ],
   "source": [
    "#----------------------------------------------------------#\n",
    "# As we know that product indicator columns will have      #\n",
    "# either 0 or 1, hence we are checking them in loop.       #\n",
    "#----------------------------------------------------------#\n",
    "\n",
    "#preparing list of product indicator columns:\n",
    "tmp_list = [x for x in df.columns.to_list() if re.search('1$',x)]\n",
    "for col in tmp_list:\n",
    "    print('For col \\'',col,'\\':\\n')\n",
    "    get_null_count(col)\n",
    "    print('Unique values count:')\n",
    "    tmp_dict = dict(df[col].value_counts())\n",
    "    print(tmp_dict)\n",
    "    print('% of 0:',round(tmp_dict[0]/(tmp_dict[0]+tmp_dict[1])*100,4),' ; ', \\\n",
    "          '% of 1:',round(tmp_dict[1]/(tmp_dict[0]+tmp_dict[1])*100,4))\n",
    "    print('-'*50)"
   ]
  },
  {
   "cell_type": "markdown",
   "metadata": {},
   "source": [
    "__Observation__:\n",
    "- All columns, other than _ind_cco_fin_ult1_ have ~95% values as 0. Which means that these products are not that popular.\n",
    "- On the other hand, column _ind_cco_fin_ult1 (i.e. Current Accounts)_ is most popular product as ~65% records has value 1.\n",
    "- NULL value is not present in columns other than _ind_nomina_ult1 (i.e. Payroll)_ and _ind_nom_pens_ult1 (i.e. Pensions)_.\n",
    "- However, NULL % for above columns is low (~0.1%)."
   ]
  },
  {
   "cell_type": "code",
   "execution_count": 122,
   "metadata": {},
   "outputs": [],
   "source": [
    "#-revision-notes:-_----------------------------------------#\n",
    "# > re.match is used to match from staring only,           #\n",
    "#   e.g. re.match('^ind',x)                                #\n",
    "#   It will not work for matching trail. To match trail,   #\n",
    "#   usage of re.search() is required                       #\n",
    "#----------------------------------------------------------#"
   ]
  },
  {
   "cell_type": "markdown",
   "metadata": {},
   "source": [
    "<h2> Summary: </h2>\n",
    "\n",
    "1. Among product columns, _ind_cco_fin_ult1 (i.e. Current Accounts)_ appears to be most popular product.\n",
    "2. Most of the users are from Spain only. This can be helpful to analyse purchase behaviour for users outside Spain separately and recommend product accordingly.\n",
    "3. Following columns doesn't have much variation:\n",
    "\n",
    "    i) __indrel__ _(1 (First/Primary), 99 (Primary customer during the month but not at the end of the month))_\n",
    "        - here, we have just ~0.2% values as 99, hence it doesn't provide much variation in dataset.\n",
    "    ii) __ult_fec_cli_1t__ _(Last date as primary customer (if he isn't at the end of the month))_\n",
    "        - here, NULL count is ~99%.\n",
    "     _(both above columns have 24793 count in common)_\n",
    "    \n",
    "    iii) __indrel_1mes__ _(Customer type at the beginning of the month ,1 (First/Primary customer), 2 (co-owner ),P (Potential),3 (former primary), 4(former co-owner))_\n",
    "        - here, ~99% value is 1.\n",
    "    iv) __tipodom__ _(Addres type. 1, primary address)_\n",
    "        - here, all values are 1.\n",
    "4. Following columns have wrong values, hence we have to either recalculate values or removee them from dataset:\n",
    "\n",
    "    i)  __ind_nuevo__ _(New customer Index. 1 if the customer registered in the last 6 months)_\n",
    "    \n",
    "    ii) __antiguedad__ _(Customer seniority (in months))_\n",
    "\n",
    "\n",
    "5. Following columns are acting as same:\n",
    "\n",
    "    i)  __cod_prov__ _(Province code (customer's address))_\n",
    "    \n",
    "    ii) __noprov__ _(Province name)_"
   ]
  },
  {
   "cell_type": "markdown",
   "metadata": {},
   "source": [
    "<h1><center>END-OF-NOTEBOOK<center></h1>"
   ]
  }
 ],
 "metadata": {
  "kernelspec": {
   "display_name": "Python 3",
   "language": "python",
   "name": "python3"
  },
  "language_info": {
   "codemirror_mode": {
    "name": "ipython",
    "version": 3
   },
   "file_extension": ".py",
   "mimetype": "text/x-python",
   "name": "python",
   "nbconvert_exporter": "python",
   "pygments_lexer": "ipython3",
   "version": "3.7.9"
  }
 },
 "nbformat": 4,
 "nbformat_minor": 4
}
